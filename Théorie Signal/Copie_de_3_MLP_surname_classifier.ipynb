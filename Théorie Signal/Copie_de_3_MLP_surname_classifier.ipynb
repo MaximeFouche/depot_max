{
  "cells": [
    {
      "cell_type": "markdown",
      "id": "6b2b64e7",
      "metadata": {
        "id": "6b2b64e7"
      },
      "source": [
        "# Multi-Layer Perceptron (MLP) for Surname Nationality Classification\n",
        "\n",
        "This notebook demonstrates how to build and train a Multi-Layer Perceptron (MLP) to classify surnames based on their nationalities using a dataset of surnames and corresponding nationalities."
      ]
    },
    {
      "cell_type": "code",
      "execution_count": 2,
      "id": "565b673c",
      "metadata": {
        "id": "565b673c"
      },
      "outputs": [],
      "source": [
        "import pandas as pd\n",
        "import numpy as np\n",
        "from sklearn.model_selection import train_test_split\n",
        "from sklearn.preprocessing import LabelEncoder\n",
        "from keras.models import Sequential\n",
        "from keras.layers import Dense, Dropout, Flatten\n",
        "from tensorflow.keras.utils import to_categorical"
      ]
    },
    {
      "cell_type": "markdown",
      "id": "dcd2f079",
      "metadata": {
        "id": "dcd2f079"
      },
      "source": [
        "## Step 2: Load and Preprocess the Data\n",
        "\n",
        "The dataset is loaded into a Pandas DataFrame. We need to preprocess this data for our neural network."
      ]
    },
    {
      "cell_type": "code",
      "execution_count": 3,
      "id": "54c50e8c",
      "metadata": {
        "colab": {
          "base_uri": "https://localhost:8080/",
          "height": 206
        },
        "id": "54c50e8c",
        "outputId": "d2b28c23-236f-4b47-ed96-145422bba960"
      },
      "outputs": [
        {
          "output_type": "execute_result",
          "data": {
            "text/plain": [
              "    surname nationality\n",
              "0  Woodford     English\n",
              "1      Coté      French\n",
              "2      Kore     English\n",
              "3     Koury      Arabic\n",
              "4    Lebzak     Russian"
            ],
            "text/html": [
              "\n",
              "  <div id=\"df-689b9830-13ed-44a9-8a6f-4ddc6d554b16\" class=\"colab-df-container\">\n",
              "    <div>\n",
              "<style scoped>\n",
              "    .dataframe tbody tr th:only-of-type {\n",
              "        vertical-align: middle;\n",
              "    }\n",
              "\n",
              "    .dataframe tbody tr th {\n",
              "        vertical-align: top;\n",
              "    }\n",
              "\n",
              "    .dataframe thead th {\n",
              "        text-align: right;\n",
              "    }\n",
              "</style>\n",
              "<table border=\"1\" class=\"dataframe\">\n",
              "  <thead>\n",
              "    <tr style=\"text-align: right;\">\n",
              "      <th></th>\n",
              "      <th>surname</th>\n",
              "      <th>nationality</th>\n",
              "    </tr>\n",
              "  </thead>\n",
              "  <tbody>\n",
              "    <tr>\n",
              "      <th>0</th>\n",
              "      <td>Woodford</td>\n",
              "      <td>English</td>\n",
              "    </tr>\n",
              "    <tr>\n",
              "      <th>1</th>\n",
              "      <td>Coté</td>\n",
              "      <td>French</td>\n",
              "    </tr>\n",
              "    <tr>\n",
              "      <th>2</th>\n",
              "      <td>Kore</td>\n",
              "      <td>English</td>\n",
              "    </tr>\n",
              "    <tr>\n",
              "      <th>3</th>\n",
              "      <td>Koury</td>\n",
              "      <td>Arabic</td>\n",
              "    </tr>\n",
              "    <tr>\n",
              "      <th>4</th>\n",
              "      <td>Lebzak</td>\n",
              "      <td>Russian</td>\n",
              "    </tr>\n",
              "  </tbody>\n",
              "</table>\n",
              "</div>\n",
              "    <div class=\"colab-df-buttons\">\n",
              "\n",
              "  <div class=\"colab-df-container\">\n",
              "    <button class=\"colab-df-convert\" onclick=\"convertToInteractive('df-689b9830-13ed-44a9-8a6f-4ddc6d554b16')\"\n",
              "            title=\"Convert this dataframe to an interactive table.\"\n",
              "            style=\"display:none;\">\n",
              "\n",
              "  <svg xmlns=\"http://www.w3.org/2000/svg\" height=\"24px\" viewBox=\"0 -960 960 960\">\n",
              "    <path d=\"M120-120v-720h720v720H120Zm60-500h600v-160H180v160Zm220 220h160v-160H400v160Zm0 220h160v-160H400v160ZM180-400h160v-160H180v160Zm440 0h160v-160H620v160ZM180-180h160v-160H180v160Zm440 0h160v-160H620v160Z\"/>\n",
              "  </svg>\n",
              "    </button>\n",
              "\n",
              "  <style>\n",
              "    .colab-df-container {\n",
              "      display:flex;\n",
              "      gap: 12px;\n",
              "    }\n",
              "\n",
              "    .colab-df-convert {\n",
              "      background-color: #E8F0FE;\n",
              "      border: none;\n",
              "      border-radius: 50%;\n",
              "      cursor: pointer;\n",
              "      display: none;\n",
              "      fill: #1967D2;\n",
              "      height: 32px;\n",
              "      padding: 0 0 0 0;\n",
              "      width: 32px;\n",
              "    }\n",
              "\n",
              "    .colab-df-convert:hover {\n",
              "      background-color: #E2EBFA;\n",
              "      box-shadow: 0px 1px 2px rgba(60, 64, 67, 0.3), 0px 1px 3px 1px rgba(60, 64, 67, 0.15);\n",
              "      fill: #174EA6;\n",
              "    }\n",
              "\n",
              "    .colab-df-buttons div {\n",
              "      margin-bottom: 4px;\n",
              "    }\n",
              "\n",
              "    [theme=dark] .colab-df-convert {\n",
              "      background-color: #3B4455;\n",
              "      fill: #D2E3FC;\n",
              "    }\n",
              "\n",
              "    [theme=dark] .colab-df-convert:hover {\n",
              "      background-color: #434B5C;\n",
              "      box-shadow: 0px 1px 3px 1px rgba(0, 0, 0, 0.15);\n",
              "      filter: drop-shadow(0px 1px 2px rgba(0, 0, 0, 0.3));\n",
              "      fill: #FFFFFF;\n",
              "    }\n",
              "  </style>\n",
              "\n",
              "    <script>\n",
              "      const buttonEl =\n",
              "        document.querySelector('#df-689b9830-13ed-44a9-8a6f-4ddc6d554b16 button.colab-df-convert');\n",
              "      buttonEl.style.display =\n",
              "        google.colab.kernel.accessAllowed ? 'block' : 'none';\n",
              "\n",
              "      async function convertToInteractive(key) {\n",
              "        const element = document.querySelector('#df-689b9830-13ed-44a9-8a6f-4ddc6d554b16');\n",
              "        const dataTable =\n",
              "          await google.colab.kernel.invokeFunction('convertToInteractive',\n",
              "                                                    [key], {});\n",
              "        if (!dataTable) return;\n",
              "\n",
              "        const docLinkHtml = 'Like what you see? Visit the ' +\n",
              "          '<a target=\"_blank\" href=https://colab.research.google.com/notebooks/data_table.ipynb>data table notebook</a>'\n",
              "          + ' to learn more about interactive tables.';\n",
              "        element.innerHTML = '';\n",
              "        dataTable['output_type'] = 'display_data';\n",
              "        await google.colab.output.renderOutput(dataTable, element);\n",
              "        const docLink = document.createElement('div');\n",
              "        docLink.innerHTML = docLinkHtml;\n",
              "        element.appendChild(docLink);\n",
              "      }\n",
              "    </script>\n",
              "  </div>\n",
              "\n",
              "\n",
              "<div id=\"df-d8b2544e-2631-4cf0-9429-9d48f70aa858\">\n",
              "  <button class=\"colab-df-quickchart\" onclick=\"quickchart('df-d8b2544e-2631-4cf0-9429-9d48f70aa858')\"\n",
              "            title=\"Suggest charts\"\n",
              "            style=\"display:none;\">\n",
              "\n",
              "<svg xmlns=\"http://www.w3.org/2000/svg\" height=\"24px\"viewBox=\"0 0 24 24\"\n",
              "     width=\"24px\">\n",
              "    <g>\n",
              "        <path d=\"M19 3H5c-1.1 0-2 .9-2 2v14c0 1.1.9 2 2 2h14c1.1 0 2-.9 2-2V5c0-1.1-.9-2-2-2zM9 17H7v-7h2v7zm4 0h-2V7h2v10zm4 0h-2v-4h2v4z\"/>\n",
              "    </g>\n",
              "</svg>\n",
              "  </button>\n",
              "\n",
              "<style>\n",
              "  .colab-df-quickchart {\n",
              "      --bg-color: #E8F0FE;\n",
              "      --fill-color: #1967D2;\n",
              "      --hover-bg-color: #E2EBFA;\n",
              "      --hover-fill-color: #174EA6;\n",
              "      --disabled-fill-color: #AAA;\n",
              "      --disabled-bg-color: #DDD;\n",
              "  }\n",
              "\n",
              "  [theme=dark] .colab-df-quickchart {\n",
              "      --bg-color: #3B4455;\n",
              "      --fill-color: #D2E3FC;\n",
              "      --hover-bg-color: #434B5C;\n",
              "      --hover-fill-color: #FFFFFF;\n",
              "      --disabled-bg-color: #3B4455;\n",
              "      --disabled-fill-color: #666;\n",
              "  }\n",
              "\n",
              "  .colab-df-quickchart {\n",
              "    background-color: var(--bg-color);\n",
              "    border: none;\n",
              "    border-radius: 50%;\n",
              "    cursor: pointer;\n",
              "    display: none;\n",
              "    fill: var(--fill-color);\n",
              "    height: 32px;\n",
              "    padding: 0;\n",
              "    width: 32px;\n",
              "  }\n",
              "\n",
              "  .colab-df-quickchart:hover {\n",
              "    background-color: var(--hover-bg-color);\n",
              "    box-shadow: 0 1px 2px rgba(60, 64, 67, 0.3), 0 1px 3px 1px rgba(60, 64, 67, 0.15);\n",
              "    fill: var(--button-hover-fill-color);\n",
              "  }\n",
              "\n",
              "  .colab-df-quickchart-complete:disabled,\n",
              "  .colab-df-quickchart-complete:disabled:hover {\n",
              "    background-color: var(--disabled-bg-color);\n",
              "    fill: var(--disabled-fill-color);\n",
              "    box-shadow: none;\n",
              "  }\n",
              "\n",
              "  .colab-df-spinner {\n",
              "    border: 2px solid var(--fill-color);\n",
              "    border-color: transparent;\n",
              "    border-bottom-color: var(--fill-color);\n",
              "    animation:\n",
              "      spin 1s steps(1) infinite;\n",
              "  }\n",
              "\n",
              "  @keyframes spin {\n",
              "    0% {\n",
              "      border-color: transparent;\n",
              "      border-bottom-color: var(--fill-color);\n",
              "      border-left-color: var(--fill-color);\n",
              "    }\n",
              "    20% {\n",
              "      border-color: transparent;\n",
              "      border-left-color: var(--fill-color);\n",
              "      border-top-color: var(--fill-color);\n",
              "    }\n",
              "    30% {\n",
              "      border-color: transparent;\n",
              "      border-left-color: var(--fill-color);\n",
              "      border-top-color: var(--fill-color);\n",
              "      border-right-color: var(--fill-color);\n",
              "    }\n",
              "    40% {\n",
              "      border-color: transparent;\n",
              "      border-right-color: var(--fill-color);\n",
              "      border-top-color: var(--fill-color);\n",
              "    }\n",
              "    60% {\n",
              "      border-color: transparent;\n",
              "      border-right-color: var(--fill-color);\n",
              "    }\n",
              "    80% {\n",
              "      border-color: transparent;\n",
              "      border-right-color: var(--fill-color);\n",
              "      border-bottom-color: var(--fill-color);\n",
              "    }\n",
              "    90% {\n",
              "      border-color: transparent;\n",
              "      border-bottom-color: var(--fill-color);\n",
              "    }\n",
              "  }\n",
              "</style>\n",
              "\n",
              "  <script>\n",
              "    async function quickchart(key) {\n",
              "      const quickchartButtonEl =\n",
              "        document.querySelector('#' + key + ' button');\n",
              "      quickchartButtonEl.disabled = true;  // To prevent multiple clicks.\n",
              "      quickchartButtonEl.classList.add('colab-df-spinner');\n",
              "      try {\n",
              "        const charts = await google.colab.kernel.invokeFunction(\n",
              "            'suggestCharts', [key], {});\n",
              "      } catch (error) {\n",
              "        console.error('Error during call to suggestCharts:', error);\n",
              "      }\n",
              "      quickchartButtonEl.classList.remove('colab-df-spinner');\n",
              "      quickchartButtonEl.classList.add('colab-df-quickchart-complete');\n",
              "    }\n",
              "    (() => {\n",
              "      let quickchartButtonEl =\n",
              "        document.querySelector('#df-d8b2544e-2631-4cf0-9429-9d48f70aa858 button');\n",
              "      quickchartButtonEl.style.display =\n",
              "        google.colab.kernel.accessAllowed ? 'block' : 'none';\n",
              "    })();\n",
              "  </script>\n",
              "</div>\n",
              "    </div>\n",
              "  </div>\n"
            ]
          },
          "metadata": {},
          "execution_count": 3
        }
      ],
      "source": [
        "# Load the dataset\n",
        "file_path = 'surnames.csv'\n",
        "surnames_data = pd.read_csv(file_path)\n",
        "\n",
        "# Display the first few rows\n",
        "surnames_data.head()"
      ]
    },
    {
      "cell_type": "markdown",
      "id": "cb4e62cd",
      "metadata": {
        "id": "cb4e62cd"
      },
      "source": [
        "### Data Preprocessing\n",
        "\n",
        "We need to encode the surnames and nationalities into a numerical format. For surnames, we'll convert each character to its ASCII value. For nationalities, we use label encoding."
      ]
    },
    {
      "cell_type": "code",
      "execution_count": 4,
      "id": "dbf95042",
      "metadata": {
        "id": "dbf95042"
      },
      "outputs": [],
      "source": [
        "\n",
        "# Creating a character set and mapping characters to integers\n",
        "characters = sorted(list(set(''.join(surnames_data['surname']))))\n",
        "char_to_int = dict((c, i) for i, c in enumerate(characters))\n",
        "\n",
        "# Function to convert surname to a sequence of integers\n",
        "def surname_to_int_array(surname):\n",
        "    return [char_to_int[char] for char in surname if char in char_to_int]\n",
        "\n",
        "# Convert surnames to sequences of integers\n",
        "surnames_data['surname_seq'] = surnames_data['surname'].apply(surname_to_int_array)\n",
        "\n",
        "# Find the length of the longest surname\n",
        "max_surname_length = max(surnames_data['surname_seq'].apply(len))\n",
        "\n",
        "# Pad the sequences so that they are all the same length\n",
        "from keras.preprocessing.sequence import pad_sequences\n",
        "surnames_data['surname_padded'] = list(pad_sequences(surnames_data['surname_seq'], maxlen=max_surname_length, padding='post'))\n",
        "\n",
        "# Convert the padded sequences and labels to numpy arrays for training\n",
        "X = np.array(surnames_data['surname_padded'].tolist())\n"
      ]
    },
    {
      "cell_type": "code",
      "source": [
        "# Label encode nationalities\n",
        "label_encoder = LabelEncoder()\n",
        "surnames_data['nationality_encoded'] = label_encoder.fit_transform(surnames_data['nationality'])"
      ],
      "metadata": {
        "id": "zi_vhR4eeRD4"
      },
      "id": "zi_vhR4eeRD4",
      "execution_count": 5,
      "outputs": []
    },
    {
      "cell_type": "code",
      "source": [
        "# One-hot encode the nationality labels\n",
        "y = to_categorical(surnames_data['nationality_encoded'])"
      ],
      "metadata": {
        "id": "23zlz9Gce1lY"
      },
      "id": "23zlz9Gce1lY",
      "execution_count": 6,
      "outputs": []
    },
    {
      "cell_type": "markdown",
      "id": "8030edca",
      "metadata": {
        "id": "8030edca"
      },
      "source": [
        "## Step 3: Split the Data\n",
        "\n",
        "We split the data into training, validation, and test sets."
      ]
    },
    {
      "cell_type": "code",
      "execution_count": 7,
      "id": "3df29349",
      "metadata": {
        "id": "3df29349"
      },
      "outputs": [],
      "source": [
        "\n",
        "# Stratified Split of the Data\n",
        "# We use stratified split to ensure representation of each nationality in all datasets\n",
        "\n",
        "from sklearn.model_selection import StratifiedShuffleSplit\n",
        "\n",
        "# Creating a StratifiedShuffleSplit object\n",
        "strat_split = StratifiedShuffleSplit(n_splits=1, test_size=0.3, random_state=42)\n",
        "\n",
        "# Splitting the data - this will only do one split due to n_splits=1\n",
        "for train_index, temp_index in strat_split.split(X, surnames_data['nationality_encoded']):\n",
        "    X_train, X_temp = X[train_index], X[temp_index]\n",
        "    y_train, y_temp = y[train_index], y[temp_index]\n",
        "\n",
        "# Further split X_temp and y_temp into validation and test sets\n",
        "strat_split_val_test = StratifiedShuffleSplit(n_splits=1, test_size=0.5, random_state=42)\n",
        "for val_index, test_index in strat_split_val_test.split(X_temp, y_temp.argmax(axis=1)):\n",
        "    X_val, X_test = X_temp[val_index], X_temp[test_index]\n",
        "    y_val, y_test = y_temp[val_index], y_temp[test_index]\n"
      ]
    },
    {
      "cell_type": "markdown",
      "id": "30233881",
      "metadata": {
        "id": "30233881"
      },
      "source": [
        "## Step 4: Build the MLP Model\n",
        "\n",
        "We build a simple MLP model using Keras."
      ]
    },
    {
      "cell_type": "code",
      "execution_count": 9,
      "id": "91c9c57e",
      "metadata": {
        "colab": {
          "base_uri": "https://localhost:8080/"
        },
        "id": "91c9c57e",
        "outputId": "c42a9c14-8069-4f8d-aec7-c469c4865e50"
      },
      "outputs": [
        {
          "output_type": "stream",
          "name": "stdout",
          "text": [
            "Model: \"sequential\"\n",
            "_________________________________________________________________\n",
            " Layer (type)                Output Shape              Param #   \n",
            "=================================================================\n",
            " embedding (Embedding)       (None, 17, 50)            4200      \n",
            "                                                                 \n",
            " flatten (Flatten)           (None, 850)               0         \n",
            "                                                                 \n",
            " dense (Dense)               (None, 128)               108928    \n",
            "                                                                 \n",
            " dropout (Dropout)           (None, 128)               0         \n",
            "                                                                 \n",
            " dense_1 (Dense)             (None, 64)                8256      \n",
            "                                                                 \n",
            " dense_2 (Dense)             (None, 18)                1170      \n",
            "                                                                 \n",
            "=================================================================\n",
            "Total params: 122554 (478.73 KB)\n",
            "Trainable params: 122554 (478.73 KB)\n",
            "Non-trainable params: 0 (0.00 Byte)\n",
            "_________________________________________________________________\n"
          ]
        }
      ],
      "source": [
        "# Update the MLP model to include an Embedding layer\n",
        "from keras.layers import Embedding\n",
        "\n",
        "# Define the model\n",
        "model = Sequential()\n",
        "model.add(Embedding(input_dim=len(characters), output_dim=50, input_length=max_surname_length))\n",
        "model.add(Flatten())  # Flatten the output of the embedding layer\n",
        "model.add(Dense(128, activation='relu'))\n",
        "model.add(Dropout(0.5))\n",
        "model.add(Dense(64, activation='relu'))\n",
        "model.add(Dense(y.shape[1], activation='softmax'))\n",
        "\n",
        "# Compile the model\n",
        "model.compile(loss='categorical_crossentropy', optimizer='adam', metrics=['accuracy'])\n",
        "\n",
        "# Model summary\n",
        "model.summary()"
      ]
    },
    {
      "cell_type": "markdown",
      "id": "4e588334",
      "metadata": {
        "id": "4e588334"
      },
      "source": [
        "## Step 5: Train the Model\n",
        "\n",
        "We train the model using the training set and validate it on the validation set."
      ]
    },
    {
      "cell_type": "code",
      "execution_count": 10,
      "id": "6c582070",
      "metadata": {
        "colab": {
          "base_uri": "https://localhost:8080/"
        },
        "id": "6c582070",
        "outputId": "9900e373-9b59-4f67-cc34-37bf5d59dffc"
      },
      "outputs": [
        {
          "output_type": "stream",
          "name": "stdout",
          "text": [
            "Epoch 1/50\n",
            "241/241 [==============================] - 3s 7ms/step - loss: 2.0138 - accuracy: 0.4162 - val_loss: 1.6473 - val_accuracy: 0.5355\n",
            "Epoch 2/50\n",
            "241/241 [==============================] - 1s 6ms/step - loss: 1.5535 - accuracy: 0.5613 - val_loss: 1.4253 - val_accuracy: 0.5889\n",
            "Epoch 3/50\n",
            "241/241 [==============================] - 1s 6ms/step - loss: 1.3701 - accuracy: 0.6088 - val_loss: 1.3030 - val_accuracy: 0.6199\n",
            "Epoch 4/50\n",
            "241/241 [==============================] - 1s 6ms/step - loss: 1.2437 - accuracy: 0.6371 - val_loss: 1.2199 - val_accuracy: 0.6485\n",
            "Epoch 5/50\n",
            "241/241 [==============================] - 1s 6ms/step - loss: 1.1499 - accuracy: 0.6604 - val_loss: 1.1416 - val_accuracy: 0.6691\n",
            "Epoch 6/50\n",
            "241/241 [==============================] - 2s 7ms/step - loss: 1.0762 - accuracy: 0.6828 - val_loss: 1.0785 - val_accuracy: 0.6837\n",
            "Epoch 7/50\n",
            "241/241 [==============================] - 2s 9ms/step - loss: 1.0170 - accuracy: 0.7009 - val_loss: 1.0485 - val_accuracy: 0.6897\n",
            "Epoch 8/50\n",
            "241/241 [==============================] - 2s 8ms/step - loss: 0.9701 - accuracy: 0.7099 - val_loss: 1.0230 - val_accuracy: 0.6910\n",
            "Epoch 9/50\n",
            "241/241 [==============================] - 1s 6ms/step - loss: 0.9256 - accuracy: 0.7221 - val_loss: 0.9902 - val_accuracy: 0.7037\n",
            "Epoch 10/50\n",
            "241/241 [==============================] - 1s 6ms/step - loss: 0.8929 - accuracy: 0.7244 - val_loss: 0.9899 - val_accuracy: 0.7025\n",
            "Epoch 11/50\n",
            "241/241 [==============================] - 1s 6ms/step - loss: 0.8600 - accuracy: 0.7365 - val_loss: 0.9649 - val_accuracy: 0.7231\n",
            "Epoch 12/50\n",
            "241/241 [==============================] - 1s 6ms/step - loss: 0.8189 - accuracy: 0.7482 - val_loss: 0.9602 - val_accuracy: 0.7152\n",
            "Epoch 13/50\n",
            "241/241 [==============================] - 1s 6ms/step - loss: 0.7959 - accuracy: 0.7529 - val_loss: 0.9594 - val_accuracy: 0.7152\n",
            "Epoch 14/50\n",
            "241/241 [==============================] - 1s 6ms/step - loss: 0.7795 - accuracy: 0.7597 - val_loss: 0.9548 - val_accuracy: 0.7177\n",
            "Epoch 15/50\n",
            "241/241 [==============================] - 3s 13ms/step - loss: 0.7627 - accuracy: 0.7624 - val_loss: 0.9400 - val_accuracy: 0.7219\n",
            "Epoch 16/50\n",
            "241/241 [==============================] - 2s 9ms/step - loss: 0.7340 - accuracy: 0.7675 - val_loss: 0.9344 - val_accuracy: 0.7237\n",
            "Epoch 17/50\n",
            "241/241 [==============================] - 2s 6ms/step - loss: 0.7162 - accuracy: 0.7734 - val_loss: 0.9484 - val_accuracy: 0.7207\n",
            "Epoch 18/50\n",
            "241/241 [==============================] - 1s 6ms/step - loss: 0.7009 - accuracy: 0.7771 - val_loss: 0.9280 - val_accuracy: 0.7256\n",
            "Epoch 19/50\n",
            "241/241 [==============================] - 1s 6ms/step - loss: 0.6972 - accuracy: 0.7800 - val_loss: 0.9346 - val_accuracy: 0.7341\n",
            "Epoch 20/50\n",
            "241/241 [==============================] - 1s 6ms/step - loss: 0.6667 - accuracy: 0.7845 - val_loss: 0.9542 - val_accuracy: 0.7335\n",
            "Epoch 21/50\n",
            "241/241 [==============================] - 1s 6ms/step - loss: 0.6611 - accuracy: 0.7897 - val_loss: 0.9373 - val_accuracy: 0.7359\n",
            "Epoch 22/50\n",
            "241/241 [==============================] - 1s 6ms/step - loss: 0.6404 - accuracy: 0.7916 - val_loss: 0.9398 - val_accuracy: 0.7413\n",
            "Epoch 23/50\n",
            "241/241 [==============================] - 1s 6ms/step - loss: 0.6128 - accuracy: 0.8007 - val_loss: 0.9774 - val_accuracy: 0.7347\n",
            "Epoch 24/50\n",
            "241/241 [==============================] - 2s 9ms/step - loss: 0.6245 - accuracy: 0.7969 - val_loss: 0.9410 - val_accuracy: 0.7413\n",
            "Epoch 25/50\n",
            "241/241 [==============================] - 2s 10ms/step - loss: 0.6072 - accuracy: 0.8034 - val_loss: 0.9580 - val_accuracy: 0.7304\n",
            "Epoch 26/50\n",
            "241/241 [==============================] - 1s 6ms/step - loss: 0.6058 - accuracy: 0.8013 - val_loss: 0.9694 - val_accuracy: 0.7420\n",
            "Epoch 27/50\n",
            "241/241 [==============================] - 1s 6ms/step - loss: 0.5804 - accuracy: 0.8116 - val_loss: 0.9721 - val_accuracy: 0.7395\n",
            "Epoch 28/50\n",
            "241/241 [==============================] - 1s 6ms/step - loss: 0.5658 - accuracy: 0.8163 - val_loss: 1.0070 - val_accuracy: 0.7377\n",
            "Epoch 29/50\n",
            "241/241 [==============================] - 1s 6ms/step - loss: 0.5799 - accuracy: 0.8128 - val_loss: 0.9735 - val_accuracy: 0.7426\n",
            "Epoch 30/50\n",
            "241/241 [==============================] - 1s 6ms/step - loss: 0.5678 - accuracy: 0.8163 - val_loss: 0.9838 - val_accuracy: 0.7365\n",
            "Epoch 31/50\n",
            "241/241 [==============================] - 1s 6ms/step - loss: 0.5546 - accuracy: 0.8155 - val_loss: 0.9888 - val_accuracy: 0.7468\n",
            "Epoch 32/50\n",
            "241/241 [==============================] - 1s 6ms/step - loss: 0.5374 - accuracy: 0.8216 - val_loss: 1.0007 - val_accuracy: 0.7401\n",
            "Epoch 33/50\n",
            "241/241 [==============================] - 2s 9ms/step - loss: 0.5475 - accuracy: 0.8149 - val_loss: 1.0056 - val_accuracy: 0.7377\n",
            "Epoch 34/50\n",
            "241/241 [==============================] - 2s 9ms/step - loss: 0.5301 - accuracy: 0.8228 - val_loss: 1.0093 - val_accuracy: 0.7456\n",
            "Epoch 35/50\n",
            "241/241 [==============================] - 1s 6ms/step - loss: 0.5068 - accuracy: 0.8298 - val_loss: 1.0098 - val_accuracy: 0.7468\n",
            "Epoch 36/50\n",
            "241/241 [==============================] - 2s 8ms/step - loss: 0.5103 - accuracy: 0.8275 - val_loss: 1.0453 - val_accuracy: 0.7413\n",
            "Epoch 37/50\n",
            "241/241 [==============================] - 2s 9ms/step - loss: 0.5042 - accuracy: 0.8292 - val_loss: 1.0438 - val_accuracy: 0.7407\n",
            "Epoch 38/50\n",
            "241/241 [==============================] - 1s 6ms/step - loss: 0.4941 - accuracy: 0.8298 - val_loss: 1.0621 - val_accuracy: 0.7401\n",
            "Epoch 39/50\n",
            "241/241 [==============================] - 1s 6ms/step - loss: 0.4810 - accuracy: 0.8391 - val_loss: 1.0596 - val_accuracy: 0.7444\n",
            "Epoch 40/50\n",
            "241/241 [==============================] - 1s 6ms/step - loss: 0.4873 - accuracy: 0.8371 - val_loss: 1.0733 - val_accuracy: 0.7438\n",
            "Epoch 41/50\n",
            "241/241 [==============================] - 2s 9ms/step - loss: 0.4881 - accuracy: 0.8352 - val_loss: 1.0631 - val_accuracy: 0.7462\n",
            "Epoch 42/50\n",
            "241/241 [==============================] - 2s 9ms/step - loss: 0.4777 - accuracy: 0.8391 - val_loss: 1.0581 - val_accuracy: 0.7395\n",
            "Epoch 43/50\n",
            "241/241 [==============================] - 2s 6ms/step - loss: 0.4659 - accuracy: 0.8393 - val_loss: 1.0946 - val_accuracy: 0.7438\n",
            "Epoch 44/50\n",
            "241/241 [==============================] - 1s 6ms/step - loss: 0.4653 - accuracy: 0.8427 - val_loss: 1.1016 - val_accuracy: 0.7407\n",
            "Epoch 45/50\n",
            "241/241 [==============================] - 1s 6ms/step - loss: 0.4713 - accuracy: 0.8407 - val_loss: 1.0779 - val_accuracy: 0.7420\n",
            "Epoch 46/50\n",
            "241/241 [==============================] - 1s 6ms/step - loss: 0.4551 - accuracy: 0.8453 - val_loss: 1.1198 - val_accuracy: 0.7341\n",
            "Epoch 47/50\n",
            "241/241 [==============================] - 1s 6ms/step - loss: 0.4474 - accuracy: 0.8447 - val_loss: 1.1423 - val_accuracy: 0.7444\n",
            "Epoch 48/50\n",
            "241/241 [==============================] - 1s 6ms/step - loss: 0.4417 - accuracy: 0.8480 - val_loss: 1.1352 - val_accuracy: 0.7353\n",
            "Epoch 49/50\n",
            "241/241 [==============================] - 1s 6ms/step - loss: 0.4402 - accuracy: 0.8473 - val_loss: 1.1474 - val_accuracy: 0.7347\n",
            "Epoch 50/50\n",
            "241/241 [==============================] - 2s 8ms/step - loss: 0.4425 - accuracy: 0.8474 - val_loss: 1.1347 - val_accuracy: 0.7371\n"
          ]
        }
      ],
      "source": [
        "# Train the model\n",
        "history = model.fit(X_train, y_train, epochs=50, batch_size=32, validation_data=(X_val, y_val))"
      ]
    },
    {
      "cell_type": "code",
      "source": [
        "import matplotlib.pyplot as plt\n",
        "\n",
        "# Plotting training & validation accuracy values\n",
        "plt.figure(figsize=(12, 5))\n",
        "\n",
        "# Subplot for accuracy\n",
        "plt.subplot(1, 2, 1)\n",
        "plt.plot(history.history['accuracy'])\n",
        "plt.plot(history.history['val_accuracy'])\n",
        "plt.title('Model Accuracy')\n",
        "plt.ylabel('Accuracy')\n",
        "plt.xlabel('Epoch')\n",
        "plt.legend(['Train', 'Validation'], loc='upper left')\n",
        "\n",
        "# Subplot for loss\n",
        "plt.subplot(1, 2, 2)\n",
        "plt.plot(history.history['loss'])\n",
        "plt.plot(history.history['val_loss'])\n",
        "plt.title('Model Loss')\n",
        "plt.ylabel('Loss')\n",
        "plt.xlabel('Epoch')\n",
        "plt.legend(['Train', 'Validation'], loc='upper left')\n",
        "\n",
        "plt.show()\n"
      ],
      "metadata": {
        "colab": {
          "base_uri": "https://localhost:8080/",
          "height": 487
        },
        "id": "4MM2zByGf3LB",
        "outputId": "95d23870-04c7-4631-a49f-fbf6eb689a2d"
      },
      "id": "4MM2zByGf3LB",
      "execution_count": 11,
      "outputs": [
        {
          "output_type": "display_data",
          "data": {
            "text/plain": [
              "<Figure size 1200x500 with 2 Axes>"
            ],
            "image/png": "[encoded data removed]"
          },
          "metadata": {}
        }
      ]
    },
    {
      "cell_type": "markdown",
      "id": "9802c367",
      "metadata": {
        "id": "9802c367"
      },
      "source": [
        "## Step 6: Evaluate the Model\n",
        "\n",
        "Evaluate the model's performance on the test set."
      ]
    },
    {
      "cell_type": "code",
      "execution_count": 12,
      "id": "e73ab849",
      "metadata": {
        "colab": {
          "base_uri": "https://localhost:8080/"
        },
        "id": "e73ab849",
        "outputId": "74bc2b36-402e-4750-a979-5a8b610c483c"
      },
      "outputs": [
        {
          "output_type": "stream",
          "name": "stdout",
          "text": [
            "52/52 [==============================] - 0s 3ms/step - loss: 1.1076 - accuracy: 0.7353\n",
            "Test Accuracy: 73.53%\n"
          ]
        }
      ],
      "source": [
        "# Evaluate the model\n",
        "test_loss, test_accuracy = model.evaluate(X_test, y_test)\n",
        "print(f\"Test Accuracy: {test_accuracy*100:.2f}%\")"
      ]
    },
    {
      "cell_type": "markdown",
      "id": "3c3a5d3c",
      "metadata": {
        "id": "3c3a5d3c"
      },
      "source": [
        "## Step 7: Save the Model (Optional)\n",
        "\n",
        "Optionally, we can save the model for future use."
      ]
    },
    {
      "cell_type": "code",
      "execution_count": 13,
      "id": "14ee45e0",
      "metadata": {
        "colab": {
          "base_uri": "https://localhost:8080/"
        },
        "id": "14ee45e0",
        "outputId": "d3ec9122-79e1-48e6-ecc6-94e78699ea8b"
      },
      "outputs": [
        {
          "output_type": "stream",
          "name": "stderr",
          "text": [
            "/usr/local/lib/python3.10/dist-packages/keras/src/engine/training.py:3079: UserWarning: You are saving your model as an HDF5 file via `model.save()`. This file format is considered legacy. We recommend using instead the native Keras format, e.g. `model.save('my_model.keras')`.\n",
            "  saving_api.save_model(\n"
          ]
        }
      ],
      "source": [
        "# Save the model\n",
        "model.save('surname_nationality_classifier.h5')"
      ]
    },
    {
      "cell_type": "markdown",
      "source": [
        "TODO: Give a surname to the model and ask the model to predict the nationality of it."
      ],
      "metadata": {
        "id": "r23cQfRdgQGT"
      },
      "id": "r23cQfRdgQGT"
    },
    {
      "cell_type": "markdown",
      "source": [
        "TODO: change the architecture of the model to reduce the overfitting"
      ],
      "metadata": {
        "id": "B0gZlsuFhRTR"
      },
      "id": "B0gZlsuFhRTR"
    },
    {
      "cell_type": "code",
      "source": [
        "surnames_data['nationality']"
      ],
      "metadata": {
        "colab": {
          "base_uri": "https://localhost:8080/"
        },
        "id": "GJUz6bkySEiB",
        "outputId": "516f543d-a054-416c-8c2d-205ad435807c"
      },
      "id": "GJUz6bkySEiB",
      "execution_count": 15,
      "outputs": [
        {
          "output_type": "execute_result",
          "data": {
            "text/plain": [
              "0        English\n",
              "1         French\n",
              "2        English\n",
              "3         Arabic\n",
              "4        Russian\n",
              "          ...   \n",
              "10975     Arabic\n",
              "10976    English\n",
              "10977     Polish\n",
              "10978    English\n",
              "10979     German\n",
              "Name: nationality, Length: 10980, dtype: object"
            ]
          },
          "metadata": {},
          "execution_count": 15
        }
      ]
    },
    {
      "cell_type": "code",
      "source": [
        "#Prédiction pour deux noms de familles\n",
        "max=[surname_to_int_array(\"Fouche\"),surname_to_int_array(\"Le Goff\")]  #4 et 4 sont les index donnant la proba maximale pour Fouche et Le Goff (on commence à 0)\n",
        "max2=pad_sequences(max, maxlen=max_surname_length, padding='post')\n",
        "predf=model.predict(max2)\n",
        "print(predf)\n",
        "label_encoder.inverse_transform([4]) #5 correspond à l'anglais"
      ],
      "metadata": {
        "colab": {
          "base_uri": "https://localhost:8080/"
        },
        "id": "790AMjzJNhWu",
        "outputId": "ce396ca8-5a49-4ddb-d10c-106521276b55"
      },
      "id": "790AMjzJNhWu",
      "execution_count": 18,
      "outputs": [
        {
          "output_type": "stream",
          "name": "stdout",
          "text": [
            "1/1 [==============================] - 0s 37ms/step\n",
            "[[4.26423185e-07 7.57946054e-07 9.39460658e-03 6.59031444e-04\n",
            "  8.23209822e-01 5.50548658e-02 6.34984672e-02 3.59200116e-04\n",
            "  7.63516128e-03 7.72518013e-03 1.97091028e-02 2.26286943e-06\n",
            "  2.91426950e-05 7.91659870e-04 6.95910677e-03 4.53661149e-03\n",
            "  4.12137917e-04 2.23117295e-05]\n",
            " [1.12139014e-06 3.42095471e-12 5.64150140e-03 2.19295453e-05\n",
            "  5.90764403e-01 2.06188663e-04 2.41497904e-02 1.16441926e-11\n",
            "  1.63490360e-03 4.54660642e-13 1.69921664e-11 8.00536026e-11\n",
            "  1.85133786e-07 1.75890888e-12 3.77572507e-01 7.44321369e-06\n",
            "  7.00831704e-09 1.15480852e-08]]\n"
          ]
        },
        {
          "output_type": "execute_result",
          "data": {
            "text/plain": [
              "array(['English'], dtype=object)"
            ]
          },
          "metadata": {},
          "execution_count": 18
        }
      ]
    },
    {
      "cell_type": "code",
      "source": [
        "#Autre modèle\n",
        "# Update the MLP model to include an Embedding layer\n",
        "from keras.layers import Embedding\n",
        "\n",
        "# Define the model\n",
        "model2 = Sequential()\n",
        "model2.add(Embedding(input_dim=len(characters), output_dim=50, input_length=max_surname_length))\n",
        "model2.add(Flatten())  # Flatten the output of the embedding layer\n",
        "model2.add(Dense(100, activation='relu'))\n",
        "model2.add(Dropout(0.6))\n",
        "model2.add(Dense(50, activation='relu'))\n",
        "model2.add(Dense(y.shape[1], activation='softmax'))\n",
        "\n",
        "# Compile the model\n",
        "model2.compile(loss='categorical_crossentropy', optimizer='adam', metrics=['accuracy'])\n",
        "\n",
        "# Model summary\n",
        "model2.summary()"
      ],
      "metadata": {
        "colab": {
          "base_uri": "https://localhost:8080/"
        },
        "id": "Tg9rMcdRTrS9",
        "outputId": "cd5947f5-316f-47fa-c49b-678647f5dbb0"
      },
      "id": "Tg9rMcdRTrS9",
      "execution_count": 19,
      "outputs": [
        {
          "output_type": "stream",
          "name": "stdout",
          "text": [
            "Model: \"sequential_1\"\n",
            "_________________________________________________________________\n",
            " Layer (type)                Output Shape              Param #   \n",
            "=================================================================\n",
            " embedding_1 (Embedding)     (None, 17, 50)            4200      \n",
            "                                                                 \n",
            " flatten_1 (Flatten)         (None, 850)               0         \n",
            "                                                                 \n",
            " dense_3 (Dense)             (None, 100)               85100     \n",
            "                                                                 \n",
            " dropout_1 (Dropout)         (None, 100)               0         \n",
            "                                                                 \n",
            " dense_4 (Dense)             (None, 50)                5050      \n",
            "                                                                 \n",
            " dense_5 (Dense)             (None, 18)                918       \n",
            "                                                                 \n",
            "=================================================================\n",
            "Total params: 95268 (372.14 KB)\n",
            "Trainable params: 95268 (372.14 KB)\n",
            "Non-trainable params: 0 (0.00 Byte)\n",
            "_________________________________________________________________\n"
          ]
        }
      ]
    },
    {
      "cell_type": "code",
      "source": [
        "# Train the model\n",
        "history2 = model2.fit(X_train, y_train, epochs=50, batch_size=32, validation_data=(X_val, y_val))"
      ],
      "metadata": {
        "colab": {
          "base_uri": "https://localhost:8080/"
        },
        "id": "C7zZ89qtTrLh",
        "outputId": "d6eb029d-a84a-4661-8aa0-4e2df87ea2f7"
      },
      "id": "C7zZ89qtTrLh",
      "execution_count": 20,
      "outputs": [
        {
          "output_type": "stream",
          "name": "stdout",
          "text": [
            "Epoch 1/50\n",
            "241/241 [==============================] - 4s 10ms/step - loss: 2.1097 - accuracy: 0.3833 - val_loss: 1.7318 - val_accuracy: 0.5009\n",
            "Epoch 2/50\n",
            "241/241 [==============================] - 1s 5ms/step - loss: 1.6551 - accuracy: 0.5346 - val_loss: 1.5229 - val_accuracy: 0.5495\n",
            "Epoch 3/50\n",
            "241/241 [==============================] - 1s 5ms/step - loss: 1.4764 - accuracy: 0.5762 - val_loss: 1.3677 - val_accuracy: 0.6011\n",
            "Epoch 4/50\n",
            "241/241 [==============================] - 1s 5ms/step - loss: 1.3563 - accuracy: 0.6099 - val_loss: 1.2640 - val_accuracy: 0.6254\n",
            "Epoch 5/50\n",
            "241/241 [==============================] - 1s 5ms/step - loss: 1.2771 - accuracy: 0.6300 - val_loss: 1.2302 - val_accuracy: 0.6345\n",
            "Epoch 6/50\n",
            "241/241 [==============================] - 1s 5ms/step - loss: 1.2143 - accuracy: 0.6491 - val_loss: 1.1682 - val_accuracy: 0.6503\n",
            "Epoch 7/50\n",
            "241/241 [==============================] - 1s 5ms/step - loss: 1.1636 - accuracy: 0.6591 - val_loss: 1.1284 - val_accuracy: 0.6661\n",
            "Epoch 8/50\n",
            "241/241 [==============================] - 1s 5ms/step - loss: 1.1160 - accuracy: 0.6702 - val_loss: 1.0980 - val_accuracy: 0.6727\n",
            "Epoch 9/50\n",
            "241/241 [==============================] - 1s 6ms/step - loss: 1.0865 - accuracy: 0.6776 - val_loss: 1.0632 - val_accuracy: 0.6806\n",
            "Epoch 10/50\n",
            "241/241 [==============================] - 2s 9ms/step - loss: 1.0333 - accuracy: 0.6896 - val_loss: 1.0443 - val_accuracy: 0.6825\n",
            "Epoch 11/50\n",
            "241/241 [==============================] - 2s 7ms/step - loss: 1.0219 - accuracy: 0.7019 - val_loss: 1.0269 - val_accuracy: 0.6825\n",
            "Epoch 12/50\n",
            "241/241 [==============================] - 1s 5ms/step - loss: 1.0022 - accuracy: 0.6974 - val_loss: 1.0345 - val_accuracy: 0.6873\n",
            "Epoch 13/50\n",
            "241/241 [==============================] - 1s 5ms/step - loss: 0.9512 - accuracy: 0.7110 - val_loss: 1.0055 - val_accuracy: 0.6940\n",
            "Epoch 14/50\n",
            "241/241 [==============================] - 1s 5ms/step - loss: 0.9409 - accuracy: 0.7157 - val_loss: 0.9943 - val_accuracy: 0.6970\n",
            "Epoch 15/50\n",
            "241/241 [==============================] - 1s 5ms/step - loss: 0.9277 - accuracy: 0.7155 - val_loss: 0.9874 - val_accuracy: 0.6976\n",
            "Epoch 16/50\n",
            "241/241 [==============================] - 1s 5ms/step - loss: 0.9036 - accuracy: 0.7222 - val_loss: 0.9816 - val_accuracy: 0.7001\n",
            "Epoch 17/50\n",
            "241/241 [==============================] - 1s 5ms/step - loss: 0.8921 - accuracy: 0.7252 - val_loss: 0.9848 - val_accuracy: 0.7007\n",
            "Epoch 18/50\n",
            "241/241 [==============================] - 1s 5ms/step - loss: 0.8803 - accuracy: 0.7335 - val_loss: 0.9628 - val_accuracy: 0.7092\n",
            "Epoch 19/50\n",
            "241/241 [==============================] - 2s 7ms/step - loss: 0.8637 - accuracy: 0.7307 - val_loss: 0.9657 - val_accuracy: 0.7055\n",
            "Epoch 20/50\n",
            "241/241 [==============================] - 2s 8ms/step - loss: 0.8544 - accuracy: 0.7321 - val_loss: 0.9673 - val_accuracy: 0.7061\n",
            "Epoch 21/50\n",
            "241/241 [==============================] - 2s 7ms/step - loss: 0.8532 - accuracy: 0.7324 - val_loss: 0.9702 - val_accuracy: 0.7055\n",
            "Epoch 22/50\n",
            "241/241 [==============================] - 1s 5ms/step - loss: 0.8393 - accuracy: 0.7398 - val_loss: 0.9713 - val_accuracy: 0.7001\n",
            "Epoch 23/50\n",
            "241/241 [==============================] - 1s 5ms/step - loss: 0.8220 - accuracy: 0.7445 - val_loss: 0.9760 - val_accuracy: 0.7013\n",
            "Epoch 24/50\n",
            "241/241 [==============================] - 1s 5ms/step - loss: 0.8151 - accuracy: 0.7462 - val_loss: 0.9586 - val_accuracy: 0.7128\n",
            "Epoch 25/50\n",
            "241/241 [==============================] - 1s 5ms/step - loss: 0.8136 - accuracy: 0.7404 - val_loss: 0.9713 - val_accuracy: 0.7128\n",
            "Epoch 26/50\n",
            "241/241 [==============================] - 1s 5ms/step - loss: 0.8004 - accuracy: 0.7472 - val_loss: 0.9616 - val_accuracy: 0.7086\n",
            "Epoch 27/50\n",
            "241/241 [==============================] - 1s 5ms/step - loss: 0.7856 - accuracy: 0.7518 - val_loss: 0.9778 - val_accuracy: 0.7073\n",
            "Epoch 28/50\n",
            "241/241 [==============================] - 1s 5ms/step - loss: 0.7901 - accuracy: 0.7508 - val_loss: 0.9783 - val_accuracy: 0.7140\n",
            "Epoch 29/50\n",
            "241/241 [==============================] - 1s 6ms/step - loss: 0.7656 - accuracy: 0.7564 - val_loss: 0.9796 - val_accuracy: 0.7128\n",
            "Epoch 30/50\n",
            "241/241 [==============================] - 2s 8ms/step - loss: 0.7534 - accuracy: 0.7611 - val_loss: 0.9717 - val_accuracy: 0.7183\n",
            "Epoch 31/50\n",
            "241/241 [==============================] - 2s 8ms/step - loss: 0.7601 - accuracy: 0.7580 - val_loss: 0.9564 - val_accuracy: 0.7213\n",
            "Epoch 32/50\n",
            "241/241 [==============================] - 1s 5ms/step - loss: 0.7534 - accuracy: 0.7584 - val_loss: 0.9744 - val_accuracy: 0.7195\n",
            "Epoch 33/50\n",
            "241/241 [==============================] - 1s 5ms/step - loss: 0.7390 - accuracy: 0.7640 - val_loss: 0.9815 - val_accuracy: 0.7158\n",
            "Epoch 34/50\n",
            "241/241 [==============================] - 1s 5ms/step - loss: 0.7330 - accuracy: 0.7632 - val_loss: 0.9665 - val_accuracy: 0.7237\n",
            "Epoch 35/50\n",
            "241/241 [==============================] - 1s 5ms/step - loss: 0.7339 - accuracy: 0.7649 - val_loss: 0.9861 - val_accuracy: 0.7165\n",
            "Epoch 36/50\n",
            "241/241 [==============================] - 1s 5ms/step - loss: 0.7258 - accuracy: 0.7698 - val_loss: 0.9806 - val_accuracy: 0.7152\n",
            "Epoch 37/50\n",
            "241/241 [==============================] - 1s 5ms/step - loss: 0.7130 - accuracy: 0.7667 - val_loss: 0.9790 - val_accuracy: 0.7189\n",
            "Epoch 38/50\n",
            "241/241 [==============================] - 1s 5ms/step - loss: 0.7057 - accuracy: 0.7718 - val_loss: 0.9856 - val_accuracy: 0.7158\n",
            "Epoch 39/50\n",
            "241/241 [==============================] - 1s 6ms/step - loss: 0.7087 - accuracy: 0.7663 - val_loss: 0.9783 - val_accuracy: 0.7195\n",
            "Epoch 40/50\n",
            "241/241 [==============================] - 2s 9ms/step - loss: 0.7051 - accuracy: 0.7696 - val_loss: 0.9852 - val_accuracy: 0.7195\n",
            "Epoch 41/50\n",
            "241/241 [==============================] - 2s 8ms/step - loss: 0.6982 - accuracy: 0.7740 - val_loss: 0.9841 - val_accuracy: 0.7213\n",
            "Epoch 42/50\n",
            "241/241 [==============================] - 1s 5ms/step - loss: 0.6928 - accuracy: 0.7766 - val_loss: 0.9907 - val_accuracy: 0.7213\n",
            "Epoch 43/50\n",
            "241/241 [==============================] - 1s 5ms/step - loss: 0.6853 - accuracy: 0.7784 - val_loss: 0.9813 - val_accuracy: 0.7256\n",
            "Epoch 44/50\n",
            "241/241 [==============================] - 1s 5ms/step - loss: 0.6783 - accuracy: 0.7804 - val_loss: 1.0072 - val_accuracy: 0.7189\n",
            "Epoch 45/50\n",
            "241/241 [==============================] - 1s 5ms/step - loss: 0.6803 - accuracy: 0.7782 - val_loss: 1.0135 - val_accuracy: 0.7213\n",
            "Epoch 46/50\n",
            "241/241 [==============================] - 1s 5ms/step - loss: 0.6619 - accuracy: 0.7853 - val_loss: 1.0126 - val_accuracy: 0.7189\n",
            "Epoch 47/50\n",
            "241/241 [==============================] - 1s 5ms/step - loss: 0.6681 - accuracy: 0.7836 - val_loss: 1.0212 - val_accuracy: 0.7219\n",
            "Epoch 48/50\n",
            "241/241 [==============================] - 1s 5ms/step - loss: 0.6732 - accuracy: 0.7836 - val_loss: 1.0148 - val_accuracy: 0.7298\n",
            "Epoch 49/50\n",
            "241/241 [==============================] - 1s 5ms/step - loss: 0.6528 - accuracy: 0.7879 - val_loss: 1.0169 - val_accuracy: 0.7243\n",
            "Epoch 50/50\n",
            "241/241 [==============================] - 2s 9ms/step - loss: 0.6468 - accuracy: 0.7892 - val_loss: 1.0355 - val_accuracy: 0.7256\n"
          ]
        }
      ]
    },
    {
      "cell_type": "code",
      "source": [
        "import matplotlib.pyplot as plt\n",
        "\n",
        "# Plotting training & validation accuracy values\n",
        "plt.figure(figsize=(12, 5))\n",
        "\n",
        "# Subplot for accuracy\n",
        "plt.subplot(1, 2, 1)\n",
        "plt.plot(history2.history['accuracy'])\n",
        "plt.plot(history2.history['val_accuracy'])\n",
        "plt.title('Model2 Accuracy')\n",
        "plt.ylabel('Accuracy')\n",
        "plt.xlabel('Epoch')\n",
        "plt.legend(['Train', 'Validation'], loc='upper left')\n",
        "\n",
        "# Subplot for loss\n",
        "plt.subplot(1, 2, 2)\n",
        "plt.plot(history2.history['loss'])\n",
        "plt.plot(history2.history['val_loss'])\n",
        "plt.title('Model2 Loss')\n",
        "plt.ylabel('Loss')\n",
        "plt.xlabel('Epoch')\n",
        "plt.legend(['Train', 'Validation'], loc='upper left')\n",
        "\n",
        "plt.show()\n"
      ],
      "metadata": {
        "colab": {
          "base_uri": "https://localhost:8080/",
          "height": 487
        },
        "id": "pYK3mcKXTq-c",
        "outputId": "4703c84c-e504-4600-c80a-b59aba43353e"
      },
      "id": "pYK3mcKXTq-c",
      "execution_count": 21,
      "outputs": [
        {
          "output_type": "display_data",
          "data": {
            "text/plain": [
              "<Figure size 1200x500 with 2 Axes>"
            ],
            "image/png": "[encoded data removed]"
          },
          "metadata": {}
        }
      ]
    },
    {
      "cell_type": "code",
      "source": [
        "# Evaluate the model2\n",
        "test_loss2, test_accuracy2 = model2.evaluate(X_test, y_test)\n",
        "print(f\"Test Accuracy: {test_accuracy2*100:.2f}%\")"
      ],
      "metadata": {
        "colab": {
          "base_uri": "https://localhost:8080/"
        },
        "id": "0B-fl1SATwQ-",
        "outputId": "0b738a8d-a5a7-47d9-d7a8-9b72da30993f"
      },
      "id": "0B-fl1SATwQ-",
      "execution_count": 22,
      "outputs": [
        {
          "output_type": "stream",
          "name": "stdout",
          "text": [
            "52/52 [==============================] - 0s 2ms/step - loss: 1.0000 - accuracy: 0.7292\n",
            "Test Accuracy: 72.92%\n"
          ]
        }
      ]
    },
    {
      "cell_type": "code",
      "source": [],
      "metadata": {
        "id": "lfEa6277TwNm"
      },
      "id": "lfEa6277TwNm",
      "execution_count": null,
      "outputs": []
    },
    {
      "cell_type": "code",
      "source": [],
      "metadata": {
        "id": "G1PKdTlzTwKM"
      },
      "id": "G1PKdTlzTwKM",
      "execution_count": null,
      "outputs": []
    },
    {
      "cell_type": "code",
      "source": [],
      "metadata": {
        "id": "36U_CE8bRppy"
      },
      "id": "36U_CE8bRppy",
      "execution_count": null,
      "outputs": []
    }
  ],
  "metadata": {
    "colab": {
      "provenance": []
    },
    "language_info": {
      "name": "python"
    },
    "kernelspec": {
      "name": "python3",
      "display_name": "Python 3"
    }
  },
  "nbformat": 4,
  "nbformat_minor": 5
}