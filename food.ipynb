{
 "cells": [
  {
   "cell_type": "code",
   "execution_count": 1,
   "id": "1e9dcab9",
   "metadata": {},
   "outputs": [
    {
     "name": "stdout",
     "output_type": "stream",
     "text": [
      "Defaulting to user installation because normal site-packages is not writeable\n",
      "Requirement already satisfied: pythae in /users/2024/ds2/119008303/.local/lib/python3.11/site-packages (0.1.2)\n",
      "Requirement already satisfied: cloudpickle>=2.1.0 in /usr/lib/python3.11/site-packages (from pythae) (2.2.1)\n",
      "Requirement already satisfied: imageio in /usr/lib/python3.11/site-packages (from pythae) (2.22.4)\n",
      "Requirement already satisfied: numpy>=1.19 in /usr/lib64/python3.11/site-packages (from pythae) (1.24.4)\n",
      "Requirement already satisfied: pydantic>=2.0 in /users/2024/ds2/119008303/.local/lib/python3.11/site-packages (from pythae) (2.5.1)\n",
      "Requirement already satisfied: scikit-learn in /usr/lib64/python3.11/site-packages (from pythae) (1.1.2)\n",
      "Requirement already satisfied: scipy>=1.7.1 in /usr/lib64/python3.11/site-packages (from pythae) (1.10.1)\n",
      "Requirement already satisfied: torch>=1.10.1 in /users/2024/ds2/119008303/.local/lib/python3.11/site-packages (from pythae) (2.1.1)\n",
      "Requirement already satisfied: tqdm in /users/2024/ds2/119008303/.local/lib/python3.11/site-packages (from pythae) (4.66.1)\n",
      "Requirement already satisfied: typing-extensions in /users/2024/ds2/119008303/.local/lib/python3.11/site-packages (from pythae) (4.8.0)\n",
      "Requirement already satisfied: dataclasses>=0.6 in /users/2024/ds2/119008303/.local/lib/python3.11/site-packages (from pythae) (0.6)\n",
      "Requirement already satisfied: annotated-types>=0.4.0 in /users/2024/ds2/119008303/.local/lib/python3.11/site-packages (from pydantic>=2.0->pythae) (0.6.0)\n",
      "Requirement already satisfied: pydantic-core==2.14.3 in /users/2024/ds2/119008303/.local/lib/python3.11/site-packages (from pydantic>=2.0->pythae) (2.14.3)\n",
      "Requirement already satisfied: filelock in /users/2024/ds2/119008303/.local/lib/python3.11/site-packages (from torch>=1.10.1->pythae) (3.13.1)\n",
      "Requirement already satisfied: sympy in /usr/lib/python3.11/site-packages (from torch>=1.10.1->pythae) (1.11.1)\n",
      "Requirement already satisfied: networkx in /usr/lib/python3.11/site-packages (from torch>=1.10.1->pythae) (2.8.8)\n",
      "Requirement already satisfied: jinja2 in /usr/lib/python3.11/site-packages (from torch>=1.10.1->pythae) (3.0.3)\n",
      "Requirement already satisfied: fsspec in /usr/lib/python3.11/site-packages (from torch>=1.10.1->pythae) (2023.6.0)\n",
      "Requirement already satisfied: nvidia-cuda-nvrtc-cu12==12.1.105 in /users/2024/ds2/119008303/.local/lib/python3.11/site-packages (from torch>=1.10.1->pythae) (12.1.105)\n",
      "Requirement already satisfied: nvidia-cuda-runtime-cu12==12.1.105 in /users/2024/ds2/119008303/.local/lib/python3.11/site-packages (from torch>=1.10.1->pythae) (12.1.105)\n",
      "Requirement already satisfied: nvidia-cuda-cupti-cu12==12.1.105 in /users/2024/ds2/119008303/.local/lib/python3.11/site-packages (from torch>=1.10.1->pythae) (12.1.105)\n",
      "Requirement already satisfied: nvidia-cudnn-cu12==8.9.2.26 in /users/2024/ds2/119008303/.local/lib/python3.11/site-packages (from torch>=1.10.1->pythae) (8.9.2.26)\n",
      "Requirement already satisfied: nvidia-cublas-cu12==12.1.3.1 in /users/2024/ds2/119008303/.local/lib/python3.11/site-packages (from torch>=1.10.1->pythae) (12.1.3.1)\n",
      "Requirement already satisfied: nvidia-cufft-cu12==11.0.2.54 in /users/2024/ds2/119008303/.local/lib/python3.11/site-packages (from torch>=1.10.1->pythae) (11.0.2.54)\n",
      "Requirement already satisfied: nvidia-curand-cu12==10.3.2.106 in /users/2024/ds2/119008303/.local/lib/python3.11/site-packages (from torch>=1.10.1->pythae) (10.3.2.106)\n",
      "Requirement already satisfied: nvidia-cusolver-cu12==11.4.5.107 in /users/2024/ds2/119008303/.local/lib/python3.11/site-packages (from torch>=1.10.1->pythae) (11.4.5.107)\n",
      "Requirement already satisfied: nvidia-cusparse-cu12==12.1.0.106 in /users/2024/ds2/119008303/.local/lib/python3.11/site-packages (from torch>=1.10.1->pythae) (12.1.0.106)\n",
      "Requirement already satisfied: nvidia-nccl-cu12==2.18.1 in /users/2024/ds2/119008303/.local/lib/python3.11/site-packages (from torch>=1.10.1->pythae) (2.18.1)\n",
      "Requirement already satisfied: nvidia-nvtx-cu12==12.1.105 in /users/2024/ds2/119008303/.local/lib/python3.11/site-packages (from torch>=1.10.1->pythae) (12.1.105)\n",
      "Requirement already satisfied: triton==2.1.0 in /users/2024/ds2/119008303/.local/lib/python3.11/site-packages (from torch>=1.10.1->pythae) (2.1.0)\n",
      "Requirement already satisfied: nvidia-nvjitlink-cu12 in /users/2024/ds2/119008303/.local/lib/python3.11/site-packages (from nvidia-cusolver-cu12==11.4.5.107->torch>=1.10.1->pythae) (12.3.101)\n",
      "Requirement already satisfied: pillow>=8.3.2 in /usr/lib64/python3.11/site-packages (from imageio->pythae) (9.4.0)\n",
      "Requirement already satisfied: joblib>=1.0.0 in /usr/lib/python3.11/site-packages (from scikit-learn->pythae) (1.2.0)\n",
      "Requirement already satisfied: threadpoolctl>=2.0.0 in /usr/lib/python3.11/site-packages (from scikit-learn->pythae) (3.1.0)\n",
      "Requirement already satisfied: MarkupSafe>=2.0 in /usr/lib64/python3.11/site-packages (from jinja2->torch>=1.10.1->pythae) (2.1.2)\n",
      "Requirement already satisfied: mpmath>=0.19 in /usr/lib/python3.11/site-packages (from sympy->torch>=1.10.1->pythae) (1.2.1)\n",
      "Note: you may need to restart the kernel to use updated packages.\n"
     ]
    }
   ],
   "source": [
    "# Install the library\n",
    "%pip install pythae"
   ]
  },
  {
   "cell_type": "code",
   "execution_count": 2,
   "id": "bea564a4",
   "metadata": {},
   "outputs": [],
   "source": [
    "import torch\n",
    "import torchvision.datasets as datasets\n",
    "\n",
    "device = \"cuda\" if torch.cuda.is_available() else \"cpu\"\n",
    "\n",
    "%load_ext autoreload\n",
    "%autoreload 2"
   ]
  },
  {
   "cell_type": "code",
   "execution_count": null,
   "id": "a758ae26",
   "metadata": {},
   "outputs": [],
   "source": []
  }
 ],
 "metadata": {
  "kernelspec": {
   "display_name": "Python 3 (ipykernel)",
   "language": "python",
   "name": "python3"
  },
  "language_info": {
   "codemirror_mode": {
    "name": "ipython",
    "version": 3
   },
   "file_extension": ".py",
   "mimetype": "text/x-python",
   "name": "python",
   "nbconvert_exporter": "python",
   "pygments_lexer": "ipython3",
   "version": "3.11.4"
  }
 },
 "nbformat": 4,
 "nbformat_minor": 5
}
