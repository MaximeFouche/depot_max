{
 "cells": [
  {
   "cell_type": "code",
   "execution_count": 35,
   "id": "7cda3e9a",
   "metadata": {},
   "outputs": [],
   "source": [
    "import numpy as np\n",
    "import pandas as pd\n",
    "from sklearn.svm import SVC\n",
    "from sklearn.pipeline import make_pipeline\n",
    "from sklearn.preprocessing import StandardScaler\n",
    "from sklearn.ensemble import RandomForestClassifier\n",
    "from sklearn.model_selection import train_test_split"
   ]
  },
  {
   "cell_type": "code",
   "execution_count": 10,
   "id": "f3e860c7",
   "metadata": {},
   "outputs": [],
   "source": [
    "#Import des données\n",
    "inc = pd.read_csv(\"/users/2024/ds2/119008303/Documents/Traitement images/Fiji.app/Summary of dupinc.csv\")\n",
    "led = pd.read_csv(\"/users/2024/ds2/119008303/Documents/Traitement images/Fiji.app/Summary of dupled.csv\")"
   ]
  },
  {
   "cell_type": "code",
   "execution_count": 11,
   "id": "520b693e",
   "metadata": {},
   "outputs": [
    {
     "data": {
      "text/html": [
       "<div>\n",
       "<style scoped>\n",
       "    .dataframe tbody tr th:only-of-type {\n",
       "        vertical-align: middle;\n",
       "    }\n",
       "\n",
       "    .dataframe tbody tr th {\n",
       "        vertical-align: top;\n",
       "    }\n",
       "\n",
       "    .dataframe thead th {\n",
       "        text-align: right;\n",
       "    }\n",
       "</style>\n",
       "<table border=\"1\" class=\"dataframe\">\n",
       "  <thead>\n",
       "    <tr style=\"text-align: right;\">\n",
       "      <th></th>\n",
       "      <th>Slice</th>\n",
       "      <th>Count</th>\n",
       "      <th>Total Area</th>\n",
       "      <th>Average Size</th>\n",
       "      <th>%Area</th>\n",
       "      <th>Mean</th>\n",
       "      <th>Mode</th>\n",
       "      <th>Perim.</th>\n",
       "      <th>Major</th>\n",
       "      <th>Minor</th>\n",
       "      <th>...</th>\n",
       "      <th>Solidity</th>\n",
       "      <th>Feret</th>\n",
       "      <th>FeretX</th>\n",
       "      <th>FeretY</th>\n",
       "      <th>FeretAngle</th>\n",
       "      <th>MinFeret</th>\n",
       "      <th>IntDen</th>\n",
       "      <th>Median</th>\n",
       "      <th>Skew</th>\n",
       "      <th>Kurt</th>\n",
       "    </tr>\n",
       "  </thead>\n",
       "  <tbody>\n",
       "    <tr>\n",
       "      <th>0</th>\n",
       "      <td>51</td>\n",
       "      <td>173</td>\n",
       "      <td>1165565</td>\n",
       "      <td>6737.370</td>\n",
       "      <td>88.926</td>\n",
       "      <td>28.816</td>\n",
       "      <td>28.844</td>\n",
       "      <td>59.095</td>\n",
       "      <td>15.273</td>\n",
       "      <td>8.115</td>\n",
       "      <td>...</td>\n",
       "      <td>0.947</td>\n",
       "      <td>16.463</td>\n",
       "      <td>535.809</td>\n",
       "      <td>771.601</td>\n",
       "      <td>141.944</td>\n",
       "      <td>7.948</td>\n",
       "      <td>145241.769</td>\n",
       "      <td>28.890</td>\n",
       "      <td>-1.228</td>\n",
       "      <td>2.376</td>\n",
       "    </tr>\n",
       "    <tr>\n",
       "      <th>1</th>\n",
       "      <td>52</td>\n",
       "      <td>143</td>\n",
       "      <td>1153495</td>\n",
       "      <td>8066.399</td>\n",
       "      <td>88.005</td>\n",
       "      <td>28.844</td>\n",
       "      <td>28.860</td>\n",
       "      <td>71.560</td>\n",
       "      <td>15.910</td>\n",
       "      <td>9.120</td>\n",
       "      <td>...</td>\n",
       "      <td>0.936</td>\n",
       "      <td>17.656</td>\n",
       "      <td>559.091</td>\n",
       "      <td>778.161</td>\n",
       "      <td>140.699</td>\n",
       "      <td>8.999</td>\n",
       "      <td>175227.664</td>\n",
       "      <td>28.916</td>\n",
       "      <td>-0.831</td>\n",
       "      <td>0.274</td>\n",
       "    </tr>\n",
       "    <tr>\n",
       "      <th>2</th>\n",
       "      <td>53</td>\n",
       "      <td>145</td>\n",
       "      <td>1182339</td>\n",
       "      <td>8154.062</td>\n",
       "      <td>90.205</td>\n",
       "      <td>28.857</td>\n",
       "      <td>28.897</td>\n",
       "      <td>66.548</td>\n",
       "      <td>16.303</td>\n",
       "      <td>9.376</td>\n",
       "      <td>...</td>\n",
       "      <td>0.940</td>\n",
       "      <td>17.940</td>\n",
       "      <td>552.986</td>\n",
       "      <td>780.862</td>\n",
       "      <td>135.282</td>\n",
       "      <td>9.087</td>\n",
       "      <td>174020.138</td>\n",
       "      <td>28.917</td>\n",
       "      <td>-1.359</td>\n",
       "      <td>2.662</td>\n",
       "    </tr>\n",
       "    <tr>\n",
       "      <th>3</th>\n",
       "      <td>54</td>\n",
       "      <td>169</td>\n",
       "      <td>1128390</td>\n",
       "      <td>6676.864</td>\n",
       "      <td>86.089</td>\n",
       "      <td>28.757</td>\n",
       "      <td>28.787</td>\n",
       "      <td>80.932</td>\n",
       "      <td>17.920</td>\n",
       "      <td>8.185</td>\n",
       "      <td>...</td>\n",
       "      <td>0.913</td>\n",
       "      <td>19.344</td>\n",
       "      <td>512.864</td>\n",
       "      <td>719.793</td>\n",
       "      <td>143.712</td>\n",
       "      <td>8.254</td>\n",
       "      <td>145982.556</td>\n",
       "      <td>28.840</td>\n",
       "      <td>-0.983</td>\n",
       "      <td>0.514</td>\n",
       "    </tr>\n",
       "    <tr>\n",
       "      <th>4</th>\n",
       "      <td>55</td>\n",
       "      <td>232</td>\n",
       "      <td>1118548</td>\n",
       "      <td>4821.328</td>\n",
       "      <td>85.338</td>\n",
       "      <td>28.840</td>\n",
       "      <td>28.897</td>\n",
       "      <td>60.429</td>\n",
       "      <td>14.197</td>\n",
       "      <td>6.254</td>\n",
       "      <td>...</td>\n",
       "      <td>0.938</td>\n",
       "      <td>15.169</td>\n",
       "      <td>556.853</td>\n",
       "      <td>737.845</td>\n",
       "      <td>142.103</td>\n",
       "      <td>6.295</td>\n",
       "      <td>106055.948</td>\n",
       "      <td>28.918</td>\n",
       "      <td>-1.190</td>\n",
       "      <td>1.272</td>\n",
       "    </tr>\n",
       "  </tbody>\n",
       "</table>\n",
       "<p>5 rows × 22 columns</p>\n",
       "</div>"
      ],
      "text/plain": [
       "   Slice  Count  Total Area  Average Size   %Area    Mean    Mode  Perim.  \\\n",
       "0     51    173     1165565      6737.370  88.926  28.816  28.844  59.095   \n",
       "1     52    143     1153495      8066.399  88.005  28.844  28.860  71.560   \n",
       "2     53    145     1182339      8154.062  90.205  28.857  28.897  66.548   \n",
       "3     54    169     1128390      6676.864  86.089  28.757  28.787  80.932   \n",
       "4     55    232     1118548      4821.328  85.338  28.840  28.897  60.429   \n",
       "\n",
       "    Major  Minor  ...  Solidity   Feret   FeretX   FeretY  FeretAngle  \\\n",
       "0  15.273  8.115  ...     0.947  16.463  535.809  771.601     141.944   \n",
       "1  15.910  9.120  ...     0.936  17.656  559.091  778.161     140.699   \n",
       "2  16.303  9.376  ...     0.940  17.940  552.986  780.862     135.282   \n",
       "3  17.920  8.185  ...     0.913  19.344  512.864  719.793     143.712   \n",
       "4  14.197  6.254  ...     0.938  15.169  556.853  737.845     142.103   \n",
       "\n",
       "   MinFeret      IntDen  Median   Skew   Kurt  \n",
       "0     7.948  145241.769  28.890 -1.228  2.376  \n",
       "1     8.999  175227.664  28.916 -0.831  0.274  \n",
       "2     9.087  174020.138  28.917 -1.359  2.662  \n",
       "3     8.254  145982.556  28.840 -0.983  0.514  \n",
       "4     6.295  106055.948  28.918 -1.190  1.272  \n",
       "\n",
       "[5 rows x 22 columns]"
      ]
     },
     "execution_count": 11,
     "metadata": {},
     "output_type": "execute_result"
    }
   ],
   "source": [
    "inc.head()"
   ]
  },
  {
   "cell_type": "code",
   "execution_count": 12,
   "id": "34a1aad8",
   "metadata": {},
   "outputs": [
    {
     "data": {
      "text/plain": [
       "Index(['Slice', 'Count', 'Total Area', 'Average Size', '%Area', 'Mean', 'Mode',\n",
       "       'Perim.', 'Major', 'Minor', 'Angle', 'Circ.', 'Solidity', 'Feret',\n",
       "       'FeretX', 'FeretY', 'FeretAngle', 'MinFeret', 'IntDen', 'Median',\n",
       "       'Skew', 'Kurt'],\n",
       "      dtype='object')"
      ]
     },
     "execution_count": 12,
     "metadata": {},
     "output_type": "execute_result"
    }
   ],
   "source": [
    "inc.columns"
   ]
  },
  {
   "cell_type": "code",
   "execution_count": 13,
   "id": "cd95f827",
   "metadata": {},
   "outputs": [
    {
     "data": {
      "text/html": [
       "<div>\n",
       "<style scoped>\n",
       "    .dataframe tbody tr th:only-of-type {\n",
       "        vertical-align: middle;\n",
       "    }\n",
       "\n",
       "    .dataframe tbody tr th {\n",
       "        vertical-align: top;\n",
       "    }\n",
       "\n",
       "    .dataframe thead th {\n",
       "        text-align: right;\n",
       "    }\n",
       "</style>\n",
       "<table border=\"1\" class=\"dataframe\">\n",
       "  <thead>\n",
       "    <tr style=\"text-align: right;\">\n",
       "      <th></th>\n",
       "      <th>Slice</th>\n",
       "      <th>Count</th>\n",
       "      <th>Total Area</th>\n",
       "      <th>Average Size</th>\n",
       "      <th>%Area</th>\n",
       "      <th>Mean</th>\n",
       "      <th>Mode</th>\n",
       "      <th>Perim.</th>\n",
       "      <th>Major</th>\n",
       "      <th>Minor</th>\n",
       "      <th>...</th>\n",
       "      <th>Solidity</th>\n",
       "      <th>Feret</th>\n",
       "      <th>FeretX</th>\n",
       "      <th>FeretY</th>\n",
       "      <th>FeretAngle</th>\n",
       "      <th>MinFeret</th>\n",
       "      <th>IntDen</th>\n",
       "      <th>Median</th>\n",
       "      <th>Skew</th>\n",
       "      <th>Kurt</th>\n",
       "    </tr>\n",
       "  </thead>\n",
       "  <tbody>\n",
       "    <tr>\n",
       "      <th>0</th>\n",
       "      <td>91</td>\n",
       "      <td>5</td>\n",
       "      <td>1271862</td>\n",
       "      <td>254372.400</td>\n",
       "      <td>97.035</td>\n",
       "      <td>255</td>\n",
       "      <td>255</td>\n",
       "      <td>925.043</td>\n",
       "      <td>286.176</td>\n",
       "      <td>228.912</td>\n",
       "      <td>...</td>\n",
       "      <td>0.994</td>\n",
       "      <td>329.747</td>\n",
       "      <td>590.400</td>\n",
       "      <td>338.800</td>\n",
       "      <td>132.581</td>\n",
       "      <td>205.800</td>\n",
       "      <td>6.486496e+07</td>\n",
       "      <td>255</td>\n",
       "      <td>NaN</td>\n",
       "      <td>NaN</td>\n",
       "    </tr>\n",
       "    <tr>\n",
       "      <th>1</th>\n",
       "      <td>92</td>\n",
       "      <td>4</td>\n",
       "      <td>1271689</td>\n",
       "      <td>317922.250</td>\n",
       "      <td>97.022</td>\n",
       "      <td>255</td>\n",
       "      <td>255</td>\n",
       "      <td>1155.450</td>\n",
       "      <td>357.208</td>\n",
       "      <td>285.793</td>\n",
       "      <td>...</td>\n",
       "      <td>0.957</td>\n",
       "      <td>411.743</td>\n",
       "      <td>594.250</td>\n",
       "      <td>389.750</td>\n",
       "      <td>148.935</td>\n",
       "      <td>257.000</td>\n",
       "      <td>8.107017e+07</td>\n",
       "      <td>255</td>\n",
       "      <td>NaN</td>\n",
       "      <td>NaN</td>\n",
       "    </tr>\n",
       "    <tr>\n",
       "      <th>2</th>\n",
       "      <td>93</td>\n",
       "      <td>22</td>\n",
       "      <td>1271331</td>\n",
       "      <td>57787.773</td>\n",
       "      <td>96.995</td>\n",
       "      <td>255</td>\n",
       "      <td>255</td>\n",
       "      <td>227.790</td>\n",
       "      <td>69.912</td>\n",
       "      <td>54.821</td>\n",
       "      <td>...</td>\n",
       "      <td>0.891</td>\n",
       "      <td>81.031</td>\n",
       "      <td>831.091</td>\n",
       "      <td>541.500</td>\n",
       "      <td>132.103</td>\n",
       "      <td>50.420</td>\n",
       "      <td>1.473588e+07</td>\n",
       "      <td>255</td>\n",
       "      <td>NaN</td>\n",
       "      <td>NaN</td>\n",
       "    </tr>\n",
       "    <tr>\n",
       "      <th>3</th>\n",
       "      <td>94</td>\n",
       "      <td>11</td>\n",
       "      <td>1271196</td>\n",
       "      <td>115563.273</td>\n",
       "      <td>96.985</td>\n",
       "      <td>255</td>\n",
       "      <td>255</td>\n",
       "      <td>423.591</td>\n",
       "      <td>131.447</td>\n",
       "      <td>104.787</td>\n",
       "      <td>...</td>\n",
       "      <td>0.958</td>\n",
       "      <td>151.394</td>\n",
       "      <td>801.455</td>\n",
       "      <td>491.091</td>\n",
       "      <td>128.671</td>\n",
       "      <td>94.364</td>\n",
       "      <td>2.946863e+07</td>\n",
       "      <td>255</td>\n",
       "      <td>NaN</td>\n",
       "      <td>NaN</td>\n",
       "    </tr>\n",
       "    <tr>\n",
       "      <th>4</th>\n",
       "      <td>95</td>\n",
       "      <td>14</td>\n",
       "      <td>1271962</td>\n",
       "      <td>90854.429</td>\n",
       "      <td>97.043</td>\n",
       "      <td>255</td>\n",
       "      <td>255</td>\n",
       "      <td>333.368</td>\n",
       "      <td>103.516</td>\n",
       "      <td>82.564</td>\n",
       "      <td>...</td>\n",
       "      <td>0.971</td>\n",
       "      <td>119.217</td>\n",
       "      <td>820.286</td>\n",
       "      <td>489.286</td>\n",
       "      <td>136.683</td>\n",
       "      <td>74.286</td>\n",
       "      <td>2.316788e+07</td>\n",
       "      <td>255</td>\n",
       "      <td>NaN</td>\n",
       "      <td>NaN</td>\n",
       "    </tr>\n",
       "  </tbody>\n",
       "</table>\n",
       "<p>5 rows × 22 columns</p>\n",
       "</div>"
      ],
      "text/plain": [
       "   Slice  Count  Total Area  Average Size   %Area  Mean  Mode    Perim.  \\\n",
       "0     91      5     1271862    254372.400  97.035   255   255   925.043   \n",
       "1     92      4     1271689    317922.250  97.022   255   255  1155.450   \n",
       "2     93     22     1271331     57787.773  96.995   255   255   227.790   \n",
       "3     94     11     1271196    115563.273  96.985   255   255   423.591   \n",
       "4     95     14     1271962     90854.429  97.043   255   255   333.368   \n",
       "\n",
       "     Major    Minor  ...  Solidity    Feret   FeretX   FeretY  FeretAngle  \\\n",
       "0  286.176  228.912  ...     0.994  329.747  590.400  338.800     132.581   \n",
       "1  357.208  285.793  ...     0.957  411.743  594.250  389.750     148.935   \n",
       "2   69.912   54.821  ...     0.891   81.031  831.091  541.500     132.103   \n",
       "3  131.447  104.787  ...     0.958  151.394  801.455  491.091     128.671   \n",
       "4  103.516   82.564  ...     0.971  119.217  820.286  489.286     136.683   \n",
       "\n",
       "   MinFeret        IntDen  Median  Skew  Kurt  \n",
       "0   205.800  6.486496e+07     255   NaN   NaN  \n",
       "1   257.000  8.107017e+07     255   NaN   NaN  \n",
       "2    50.420  1.473588e+07     255   NaN   NaN  \n",
       "3    94.364  2.946863e+07     255   NaN   NaN  \n",
       "4    74.286  2.316788e+07     255   NaN   NaN  \n",
       "\n",
       "[5 rows x 22 columns]"
      ]
     },
     "execution_count": 13,
     "metadata": {},
     "output_type": "execute_result"
    }
   ],
   "source": [
    "led.head()"
   ]
  },
  {
   "cell_type": "code",
   "execution_count": 14,
   "id": "01f9b554",
   "metadata": {},
   "outputs": [
    {
     "data": {
      "text/plain": [
       "Index(['Slice', 'Count', 'Total Area', 'Average Size', '%Area', 'Mean', 'Mode',\n",
       "       'Perim.', 'Major', 'Minor', 'Angle', 'Circ.', 'Solidity', 'Feret',\n",
       "       'FeretX', 'FeretY', 'FeretAngle', 'MinFeret', 'IntDen', 'Median',\n",
       "       'Skew', 'Kurt'],\n",
       "      dtype='object')"
      ]
     },
     "execution_count": 14,
     "metadata": {},
     "output_type": "execute_result"
    }
   ],
   "source": [
    "led.columns"
   ]
  },
  {
   "cell_type": "code",
   "execution_count": 21,
   "id": "af3c62b2",
   "metadata": {},
   "outputs": [
    {
     "data": {
      "text/plain": [
       "16"
      ]
     },
     "execution_count": 21,
     "metadata": {},
     "output_type": "execute_result"
    }
   ],
   "source": [
    "#Création de X et Y:\n",
    "X=pd.concat([inc,led])\n",
    "Yled,Yinc=[9 for i in range(len(led))],[5 for i in range(len(inc))]\n",
    "Y=np.concatenate((Yinc,Yled))\n",
    "len(X)"
   ]
  },
  {
   "cell_type": "code",
   "execution_count": 57,
   "id": "c4f0b5fe",
   "metadata": {},
   "outputs": [
    {
     "data": {
      "text/plain": [
       "array([5, 5, 5, 5, 5, 5, 5, 5, 9, 9, 9, 9, 9, 9, 9, 9])"
      ]
     },
     "execution_count": 57,
     "metadata": {},
     "output_type": "execute_result"
    }
   ],
   "source": [
    "Y"
   ]
  },
  {
   "cell_type": "code",
   "execution_count": 58,
   "id": "f455178d",
   "metadata": {},
   "outputs": [
    {
     "data": {
      "text/html": [
       "<div>\n",
       "<style scoped>\n",
       "    .dataframe tbody tr th:only-of-type {\n",
       "        vertical-align: middle;\n",
       "    }\n",
       "\n",
       "    .dataframe tbody tr th {\n",
       "        vertical-align: top;\n",
       "    }\n",
       "\n",
       "    .dataframe thead th {\n",
       "        text-align: right;\n",
       "    }\n",
       "</style>\n",
       "<table border=\"1\" class=\"dataframe\">\n",
       "  <thead>\n",
       "    <tr style=\"text-align: right;\">\n",
       "      <th></th>\n",
       "      <th>Mean</th>\n",
       "      <th>Feret</th>\n",
       "      <th>%Area</th>\n",
       "    </tr>\n",
       "  </thead>\n",
       "  <tbody>\n",
       "    <tr>\n",
       "      <th>0</th>\n",
       "      <td>28.816</td>\n",
       "      <td>16.463</td>\n",
       "      <td>88.926</td>\n",
       "    </tr>\n",
       "    <tr>\n",
       "      <th>1</th>\n",
       "      <td>28.844</td>\n",
       "      <td>17.656</td>\n",
       "      <td>88.005</td>\n",
       "    </tr>\n",
       "    <tr>\n",
       "      <th>2</th>\n",
       "      <td>28.857</td>\n",
       "      <td>17.940</td>\n",
       "      <td>90.205</td>\n",
       "    </tr>\n",
       "    <tr>\n",
       "      <th>3</th>\n",
       "      <td>28.757</td>\n",
       "      <td>19.344</td>\n",
       "      <td>86.089</td>\n",
       "    </tr>\n",
       "    <tr>\n",
       "      <th>4</th>\n",
       "      <td>28.840</td>\n",
       "      <td>15.169</td>\n",
       "      <td>85.338</td>\n",
       "    </tr>\n",
       "    <tr>\n",
       "      <th>5</th>\n",
       "      <td>28.826</td>\n",
       "      <td>14.895</td>\n",
       "      <td>85.538</td>\n",
       "    </tr>\n",
       "    <tr>\n",
       "      <th>6</th>\n",
       "      <td>28.816</td>\n",
       "      <td>17.006</td>\n",
       "      <td>86.298</td>\n",
       "    </tr>\n",
       "    <tr>\n",
       "      <th>7</th>\n",
       "      <td>28.809</td>\n",
       "      <td>15.828</td>\n",
       "      <td>86.706</td>\n",
       "    </tr>\n",
       "    <tr>\n",
       "      <th>0</th>\n",
       "      <td>255.000</td>\n",
       "      <td>329.747</td>\n",
       "      <td>97.035</td>\n",
       "    </tr>\n",
       "    <tr>\n",
       "      <th>1</th>\n",
       "      <td>255.000</td>\n",
       "      <td>411.743</td>\n",
       "      <td>97.022</td>\n",
       "    </tr>\n",
       "  </tbody>\n",
       "</table>\n",
       "</div>"
      ],
      "text/plain": [
       "      Mean    Feret   %Area\n",
       "0   28.816   16.463  88.926\n",
       "1   28.844   17.656  88.005\n",
       "2   28.857   17.940  90.205\n",
       "3   28.757   19.344  86.089\n",
       "4   28.840   15.169  85.338\n",
       "5   28.826   14.895  85.538\n",
       "6   28.816   17.006  86.298\n",
       "7   28.809   15.828  86.706\n",
       "0  255.000  329.747  97.035\n",
       "1  255.000  411.743  97.022"
      ]
     },
     "execution_count": 58,
     "metadata": {},
     "output_type": "execute_result"
    }
   ],
   "source": [
    "#On part de Mean, Feret et %Area comme features principales\n",
    "Xt=pd.concat([X[\"Mean\"],X[\"Feret\"],X[\"%Area\"]],axis=1)\n",
    "Xt.head(10)"
   ]
  },
  {
   "cell_type": "code",
   "execution_count": 44,
   "id": "cae8aebc",
   "metadata": {},
   "outputs": [
    {
     "data": {
      "text/html": [
       "<style>#sk-container-id-5 {color: black;background-color: white;}#sk-container-id-5 pre{padding: 0;}#sk-container-id-5 div.sk-toggleable {background-color: white;}#sk-container-id-5 label.sk-toggleable__label {cursor: pointer;display: block;width: 100%;margin-bottom: 0;padding: 0.3em;box-sizing: border-box;text-align: center;}#sk-container-id-5 label.sk-toggleable__label-arrow:before {content: \"▸\";float: left;margin-right: 0.25em;color: #696969;}#sk-container-id-5 label.sk-toggleable__label-arrow:hover:before {color: black;}#sk-container-id-5 div.sk-estimator:hover label.sk-toggleable__label-arrow:before {color: black;}#sk-container-id-5 div.sk-toggleable__content {max-height: 0;max-width: 0;overflow: hidden;text-align: left;background-color: #f0f8ff;}#sk-container-id-5 div.sk-toggleable__content pre {margin: 0.2em;color: black;border-radius: 0.25em;background-color: #f0f8ff;}#sk-container-id-5 input.sk-toggleable__control:checked~div.sk-toggleable__content {max-height: 200px;max-width: 100%;overflow: auto;}#sk-container-id-5 input.sk-toggleable__control:checked~label.sk-toggleable__label-arrow:before {content: \"▾\";}#sk-container-id-5 div.sk-estimator input.sk-toggleable__control:checked~label.sk-toggleable__label {background-color: #d4ebff;}#sk-container-id-5 div.sk-label input.sk-toggleable__control:checked~label.sk-toggleable__label {background-color: #d4ebff;}#sk-container-id-5 input.sk-hidden--visually {border: 0;clip: rect(1px 1px 1px 1px);clip: rect(1px, 1px, 1px, 1px);height: 1px;margin: -1px;overflow: hidden;padding: 0;position: absolute;width: 1px;}#sk-container-id-5 div.sk-estimator {font-family: monospace;background-color: #f0f8ff;border: 1px dotted black;border-radius: 0.25em;box-sizing: border-box;margin-bottom: 0.5em;}#sk-container-id-5 div.sk-estimator:hover {background-color: #d4ebff;}#sk-container-id-5 div.sk-parallel-item::after {content: \"\";width: 100%;border-bottom: 1px solid gray;flex-grow: 1;}#sk-container-id-5 div.sk-label:hover label.sk-toggleable__label {background-color: #d4ebff;}#sk-container-id-5 div.sk-serial::before {content: \"\";position: absolute;border-left: 1px solid gray;box-sizing: border-box;top: 0;bottom: 0;left: 50%;z-index: 0;}#sk-container-id-5 div.sk-serial {display: flex;flex-direction: column;align-items: center;background-color: white;padding-right: 0.2em;padding-left: 0.2em;position: relative;}#sk-container-id-5 div.sk-item {position: relative;z-index: 1;}#sk-container-id-5 div.sk-parallel {display: flex;align-items: stretch;justify-content: center;background-color: white;position: relative;}#sk-container-id-5 div.sk-item::before, #sk-container-id-5 div.sk-parallel-item::before {content: \"\";position: absolute;border-left: 1px solid gray;box-sizing: border-box;top: 0;bottom: 0;left: 50%;z-index: -1;}#sk-container-id-5 div.sk-parallel-item {display: flex;flex-direction: column;z-index: 1;position: relative;background-color: white;}#sk-container-id-5 div.sk-parallel-item:first-child::after {align-self: flex-end;width: 50%;}#sk-container-id-5 div.sk-parallel-item:last-child::after {align-self: flex-start;width: 50%;}#sk-container-id-5 div.sk-parallel-item:only-child::after {width: 0;}#sk-container-id-5 div.sk-dashed-wrapped {border: 1px dashed gray;margin: 0 0.4em 0.5em 0.4em;box-sizing: border-box;padding-bottom: 0.4em;background-color: white;}#sk-container-id-5 div.sk-label label {font-family: monospace;font-weight: bold;display: inline-block;line-height: 1.2em;}#sk-container-id-5 div.sk-label-container {text-align: center;}#sk-container-id-5 div.sk-container {/* jupyter's `normalize.less` sets `[hidden] { display: none; }` but bootstrap.min.css set `[hidden] { display: none !important; }` so we also need the `!important` here to be able to override the default hidden behavior on the sphinx rendered scikit-learn.org. See: https://github.com/scikit-learn/scikit-learn/issues/21755 */display: inline-block !important;position: relative;}#sk-container-id-5 div.sk-text-repr-fallback {display: none;}</style><div id=\"sk-container-id-5\" class=\"sk-top-container\"><div class=\"sk-text-repr-fallback\"><pre>Pipeline(steps=[(&#x27;standardscaler&#x27;, StandardScaler()),\n",
       "                (&#x27;svc&#x27;, SVC(gamma=&#x27;auto&#x27;))])</pre><b>In a Jupyter environment, please rerun this cell to show the HTML representation or trust the notebook. <br />On GitHub, the HTML representation is unable to render, please try loading this page with nbviewer.org.</b></div><div class=\"sk-container\" hidden><div class=\"sk-item sk-dashed-wrapped\"><div class=\"sk-label-container\"><div class=\"sk-label sk-toggleable\"><input class=\"sk-toggleable__control sk-hidden--visually\" id=\"sk-estimator-id-13\" type=\"checkbox\" ><label for=\"sk-estimator-id-13\" class=\"sk-toggleable__label sk-toggleable__label-arrow\">Pipeline</label><div class=\"sk-toggleable__content\"><pre>Pipeline(steps=[(&#x27;standardscaler&#x27;, StandardScaler()),\n",
       "                (&#x27;svc&#x27;, SVC(gamma=&#x27;auto&#x27;))])</pre></div></div></div><div class=\"sk-serial\"><div class=\"sk-item\"><div class=\"sk-estimator sk-toggleable\"><input class=\"sk-toggleable__control sk-hidden--visually\" id=\"sk-estimator-id-14\" type=\"checkbox\" ><label for=\"sk-estimator-id-14\" class=\"sk-toggleable__label sk-toggleable__label-arrow\">StandardScaler</label><div class=\"sk-toggleable__content\"><pre>StandardScaler()</pre></div></div></div><div class=\"sk-item\"><div class=\"sk-estimator sk-toggleable\"><input class=\"sk-toggleable__control sk-hidden--visually\" id=\"sk-estimator-id-15\" type=\"checkbox\" ><label for=\"sk-estimator-id-15\" class=\"sk-toggleable__label sk-toggleable__label-arrow\">SVC</label><div class=\"sk-toggleable__content\"><pre>SVC(gamma=&#x27;auto&#x27;)</pre></div></div></div></div></div></div></div>"
      ],
      "text/plain": [
       "Pipeline(steps=[('standardscaler', StandardScaler()),\n",
       "                ('svc', SVC(gamma='auto'))])"
      ]
     },
     "execution_count": 44,
     "metadata": {},
     "output_type": "execute_result"
    }
   ],
   "source": [
    "#SVM:\n",
    "Xtrain,Xtest=train_test_split(Xt)\n",
    "Ytrain,Ytest=train_test_split(Y)\n",
    "svm = make_pipeline(StandardScaler(), SVC(gamma='auto'))\n",
    "svm.fit(Xtrain, Ytrain)"
   ]
  },
  {
   "cell_type": "code",
   "execution_count": 48,
   "id": "9a075fb2",
   "metadata": {},
   "outputs": [
    {
     "data": {
      "text/plain": [
       "0.5833333333333334"
      ]
     },
     "execution_count": 48,
     "metadata": {},
     "output_type": "execute_result"
    }
   ],
   "source": [
    "svm.score(Xtrain,Ytrain)"
   ]
  },
  {
   "cell_type": "code",
   "execution_count": 46,
   "id": "b42e8c8f",
   "metadata": {},
   "outputs": [
    {
     "data": {
      "text/plain": [
       "array([9, 5, 5, 5])"
      ]
     },
     "execution_count": 46,
     "metadata": {},
     "output_type": "execute_result"
    }
   ],
   "source": [
    "svm.predict(Xtest)"
   ]
  },
  {
   "cell_type": "code",
   "execution_count": 47,
   "id": "8174ceb3",
   "metadata": {},
   "outputs": [
    {
     "data": {
      "text/plain": [
       "array([5, 9, 9, 5])"
      ]
     },
     "execution_count": 47,
     "metadata": {},
     "output_type": "execute_result"
    }
   ],
   "source": [
    "Ytest"
   ]
  },
  {
   "cell_type": "code",
   "execution_count": 45,
   "id": "965228b1",
   "metadata": {},
   "outputs": [
    {
     "data": {
      "text/plain": [
       "0.25"
      ]
     },
     "execution_count": 45,
     "metadata": {},
     "output_type": "execute_result"
    }
   ],
   "source": [
    "svm.score(Xtest,Ytest)"
   ]
  },
  {
   "cell_type": "code",
   "execution_count": 49,
   "id": "98e04aa1",
   "metadata": {},
   "outputs": [
    {
     "data": {
      "text/html": [
       "<style>#sk-container-id-6 {color: black;background-color: white;}#sk-container-id-6 pre{padding: 0;}#sk-container-id-6 div.sk-toggleable {background-color: white;}#sk-container-id-6 label.sk-toggleable__label {cursor: pointer;display: block;width: 100%;margin-bottom: 0;padding: 0.3em;box-sizing: border-box;text-align: center;}#sk-container-id-6 label.sk-toggleable__label-arrow:before {content: \"▸\";float: left;margin-right: 0.25em;color: #696969;}#sk-container-id-6 label.sk-toggleable__label-arrow:hover:before {color: black;}#sk-container-id-6 div.sk-estimator:hover label.sk-toggleable__label-arrow:before {color: black;}#sk-container-id-6 div.sk-toggleable__content {max-height: 0;max-width: 0;overflow: hidden;text-align: left;background-color: #f0f8ff;}#sk-container-id-6 div.sk-toggleable__content pre {margin: 0.2em;color: black;border-radius: 0.25em;background-color: #f0f8ff;}#sk-container-id-6 input.sk-toggleable__control:checked~div.sk-toggleable__content {max-height: 200px;max-width: 100%;overflow: auto;}#sk-container-id-6 input.sk-toggleable__control:checked~label.sk-toggleable__label-arrow:before {content: \"▾\";}#sk-container-id-6 div.sk-estimator input.sk-toggleable__control:checked~label.sk-toggleable__label {background-color: #d4ebff;}#sk-container-id-6 div.sk-label input.sk-toggleable__control:checked~label.sk-toggleable__label {background-color: #d4ebff;}#sk-container-id-6 input.sk-hidden--visually {border: 0;clip: rect(1px 1px 1px 1px);clip: rect(1px, 1px, 1px, 1px);height: 1px;margin: -1px;overflow: hidden;padding: 0;position: absolute;width: 1px;}#sk-container-id-6 div.sk-estimator {font-family: monospace;background-color: #f0f8ff;border: 1px dotted black;border-radius: 0.25em;box-sizing: border-box;margin-bottom: 0.5em;}#sk-container-id-6 div.sk-estimator:hover {background-color: #d4ebff;}#sk-container-id-6 div.sk-parallel-item::after {content: \"\";width: 100%;border-bottom: 1px solid gray;flex-grow: 1;}#sk-container-id-6 div.sk-label:hover label.sk-toggleable__label {background-color: #d4ebff;}#sk-container-id-6 div.sk-serial::before {content: \"\";position: absolute;border-left: 1px solid gray;box-sizing: border-box;top: 0;bottom: 0;left: 50%;z-index: 0;}#sk-container-id-6 div.sk-serial {display: flex;flex-direction: column;align-items: center;background-color: white;padding-right: 0.2em;padding-left: 0.2em;position: relative;}#sk-container-id-6 div.sk-item {position: relative;z-index: 1;}#sk-container-id-6 div.sk-parallel {display: flex;align-items: stretch;justify-content: center;background-color: white;position: relative;}#sk-container-id-6 div.sk-item::before, #sk-container-id-6 div.sk-parallel-item::before {content: \"\";position: absolute;border-left: 1px solid gray;box-sizing: border-box;top: 0;bottom: 0;left: 50%;z-index: -1;}#sk-container-id-6 div.sk-parallel-item {display: flex;flex-direction: column;z-index: 1;position: relative;background-color: white;}#sk-container-id-6 div.sk-parallel-item:first-child::after {align-self: flex-end;width: 50%;}#sk-container-id-6 div.sk-parallel-item:last-child::after {align-self: flex-start;width: 50%;}#sk-container-id-6 div.sk-parallel-item:only-child::after {width: 0;}#sk-container-id-6 div.sk-dashed-wrapped {border: 1px dashed gray;margin: 0 0.4em 0.5em 0.4em;box-sizing: border-box;padding-bottom: 0.4em;background-color: white;}#sk-container-id-6 div.sk-label label {font-family: monospace;font-weight: bold;display: inline-block;line-height: 1.2em;}#sk-container-id-6 div.sk-label-container {text-align: center;}#sk-container-id-6 div.sk-container {/* jupyter's `normalize.less` sets `[hidden] { display: none; }` but bootstrap.min.css set `[hidden] { display: none !important; }` so we also need the `!important` here to be able to override the default hidden behavior on the sphinx rendered scikit-learn.org. See: https://github.com/scikit-learn/scikit-learn/issues/21755 */display: inline-block !important;position: relative;}#sk-container-id-6 div.sk-text-repr-fallback {display: none;}</style><div id=\"sk-container-id-6\" class=\"sk-top-container\"><div class=\"sk-text-repr-fallback\"><pre>RandomForestClassifier(max_depth=2, n_estimators=20, random_state=0)</pre><b>In a Jupyter environment, please rerun this cell to show the HTML representation or trust the notebook. <br />On GitHub, the HTML representation is unable to render, please try loading this page with nbviewer.org.</b></div><div class=\"sk-container\" hidden><div class=\"sk-item\"><div class=\"sk-estimator sk-toggleable\"><input class=\"sk-toggleable__control sk-hidden--visually\" id=\"sk-estimator-id-16\" type=\"checkbox\" checked><label for=\"sk-estimator-id-16\" class=\"sk-toggleable__label sk-toggleable__label-arrow\">RandomForestClassifier</label><div class=\"sk-toggleable__content\"><pre>RandomForestClassifier(max_depth=2, n_estimators=20, random_state=0)</pre></div></div></div></div></div>"
      ],
      "text/plain": [
       "RandomForestClassifier(max_depth=2, n_estimators=20, random_state=0)"
      ]
     },
     "execution_count": 49,
     "metadata": {},
     "output_type": "execute_result"
    }
   ],
   "source": [
    "#Random Forest:\n",
    "rf = RandomForestClassifier(n_estimators=20,max_depth=2, random_state=0)\n",
    "rf.fit(Xtrain, Ytrain)"
   ]
  },
  {
   "cell_type": "code",
   "execution_count": 50,
   "id": "74dbd35b",
   "metadata": {},
   "outputs": [
    {
     "data": {
      "text/plain": [
       "1.0"
      ]
     },
     "execution_count": 50,
     "metadata": {},
     "output_type": "execute_result"
    }
   ],
   "source": [
    "rf.score(Xtrain,Ytrain)"
   ]
  },
  {
   "cell_type": "code",
   "execution_count": 52,
   "id": "56bddf72",
   "metadata": {},
   "outputs": [
    {
     "data": {
      "text/plain": [
       "array([9, 5, 5, 5])"
      ]
     },
     "execution_count": 52,
     "metadata": {},
     "output_type": "execute_result"
    }
   ],
   "source": [
    "rf.predict(Xtest)"
   ]
  },
  {
   "cell_type": "code",
   "execution_count": 56,
   "id": "dde62ee2",
   "metadata": {},
   "outputs": [
    {
     "data": {
      "text/html": [
       "<div>\n",
       "<style scoped>\n",
       "    .dataframe tbody tr th:only-of-type {\n",
       "        vertical-align: middle;\n",
       "    }\n",
       "\n",
       "    .dataframe tbody tr th {\n",
       "        vertical-align: top;\n",
       "    }\n",
       "\n",
       "    .dataframe thead th {\n",
       "        text-align: right;\n",
       "    }\n",
       "</style>\n",
       "<table border=\"1\" class=\"dataframe\">\n",
       "  <thead>\n",
       "    <tr style=\"text-align: right;\">\n",
       "      <th></th>\n",
       "      <th>Mean</th>\n",
       "      <th>Feret</th>\n",
       "      <th>%Area</th>\n",
       "    </tr>\n",
       "  </thead>\n",
       "  <tbody>\n",
       "    <tr>\n",
       "      <th>3</th>\n",
       "      <td>28.757</td>\n",
       "      <td>19.344</td>\n",
       "      <td>86.089</td>\n",
       "    </tr>\n",
       "    <tr>\n",
       "      <th>1</th>\n",
       "      <td>255.000</td>\n",
       "      <td>411.743</td>\n",
       "      <td>97.022</td>\n",
       "    </tr>\n",
       "    <tr>\n",
       "      <th>7</th>\n",
       "      <td>255.000</td>\n",
       "      <td>547.891</td>\n",
       "      <td>97.070</td>\n",
       "    </tr>\n",
       "    <tr>\n",
       "      <th>0</th>\n",
       "      <td>255.000</td>\n",
       "      <td>329.747</td>\n",
       "      <td>97.035</td>\n",
       "    </tr>\n",
       "  </tbody>\n",
       "</table>\n",
       "</div>"
      ],
      "text/plain": [
       "      Mean    Feret   %Area\n",
       "3   28.757   19.344  86.089\n",
       "1  255.000  411.743  97.022\n",
       "7  255.000  547.891  97.070\n",
       "0  255.000  329.747  97.035"
      ]
     },
     "execution_count": 56,
     "metadata": {},
     "output_type": "execute_result"
    }
   ],
   "source": [
    "Xtest"
   ]
  },
  {
   "cell_type": "code",
   "execution_count": 53,
   "id": "d227aa3b",
   "metadata": {},
   "outputs": [
    {
     "data": {
      "text/plain": [
       "array([5, 9, 9, 5])"
      ]
     },
     "execution_count": 53,
     "metadata": {},
     "output_type": "execute_result"
    }
   ],
   "source": [
    "Ytest"
   ]
  },
  {
   "cell_type": "code",
   "execution_count": 54,
   "id": "11e0fd71",
   "metadata": {},
   "outputs": [
    {
     "data": {
      "text/plain": [
       "0.25"
      ]
     },
     "execution_count": 54,
     "metadata": {},
     "output_type": "execute_result"
    }
   ],
   "source": [
    "rf.score(Xtest,Ytest)"
   ]
  },
  {
   "cell_type": "code",
   "execution_count": 55,
   "id": "239f7f4f",
   "metadata": {},
   "outputs": [],
   "source": [
    "#Pas impressionnant dans les deux cas, tentons d'autres features"
   ]
  },
  {
   "cell_type": "code",
   "execution_count": 61,
   "id": "391f8c7d",
   "metadata": {},
   "outputs": [],
   "source": [
    "Xt1=pd.concat([X[\"Mean\"],X[\"Feret\"],X[\"Perim.\"]],axis=1)\n",
    "Xt2=pd.concat([X[\"Mean\"],X[\"Feret\"],X[\"IntDen\"]],axis=1)\n",
    "Xt3=pd.concat([X[\"Major\"],X[\"Feret\"],X[\"%Area\"]],axis=1)"
   ]
  },
  {
   "cell_type": "code",
   "execution_count": 62,
   "id": "29e0aeeb",
   "metadata": {},
   "outputs": [
    {
     "name": "stdout",
     "output_type": "stream",
     "text": [
      "0.25 0.25 0.25\n"
     ]
    }
   ],
   "source": [
    "#SVM:\n",
    "Xtrain1,Xtest1=train_test_split(Xt1)\n",
    "Xtrain2,Xtest2=train_test_split(Xt2)\n",
    "Xtrain3,Xtest3=train_test_split(Xt3)\n",
    "Ytrain,Ytest=train_test_split(Y)\n",
    "svm1 = make_pipeline(StandardScaler(), SVC(gamma='auto'))\n",
    "svm1.fit(Xtrain1, Ytrain)\n",
    "svm2 = make_pipeline(StandardScaler(), SVC(gamma='auto'))\n",
    "svm2.fit(Xtrain2, Ytrain)\n",
    "svm3 = make_pipeline(StandardScaler(), SVC(gamma='auto'))\n",
    "svm3.fit(Xtrain3, Ytrain)\n",
    "print(svm1.score(Xtest1,Ytest),svm2.score(Xtest2,Ytest),svm3.score(Xtest3,Ytest))"
   ]
  },
  {
   "cell_type": "code",
   "execution_count": 74,
   "id": "29a50d86",
   "metadata": {},
   "outputs": [
    {
     "data": {
      "text/html": [
       "<div>\n",
       "<style scoped>\n",
       "    .dataframe tbody tr th:only-of-type {\n",
       "        vertical-align: middle;\n",
       "    }\n",
       "\n",
       "    .dataframe tbody tr th {\n",
       "        vertical-align: top;\n",
       "    }\n",
       "\n",
       "    .dataframe thead th {\n",
       "        text-align: right;\n",
       "    }\n",
       "</style>\n",
       "<table border=\"1\" class=\"dataframe\">\n",
       "  <thead>\n",
       "    <tr style=\"text-align: right;\">\n",
       "      <th></th>\n",
       "      <th>Slice</th>\n",
       "      <th>Count</th>\n",
       "      <th>Total Area</th>\n",
       "      <th>Average Size</th>\n",
       "      <th>%Area</th>\n",
       "      <th>Mean</th>\n",
       "      <th>Mode</th>\n",
       "      <th>Perim.</th>\n",
       "      <th>Major</th>\n",
       "      <th>Minor</th>\n",
       "      <th>Angle</th>\n",
       "      <th>Circ.</th>\n",
       "      <th>Solidity</th>\n",
       "      <th>Feret</th>\n",
       "      <th>FeretX</th>\n",
       "      <th>FeretY</th>\n",
       "      <th>FeretAngle</th>\n",
       "      <th>MinFeret</th>\n",
       "      <th>IntDen</th>\n",
       "      <th>Median</th>\n",
       "    </tr>\n",
       "  </thead>\n",
       "  <tbody>\n",
       "    <tr>\n",
       "      <th>0</th>\n",
       "      <td>51</td>\n",
       "      <td>173</td>\n",
       "      <td>1165565</td>\n",
       "      <td>6737.370</td>\n",
       "      <td>88.926</td>\n",
       "      <td>28.816</td>\n",
       "      <td>28.844</td>\n",
       "      <td>59.095</td>\n",
       "      <td>15.273</td>\n",
       "      <td>8.115</td>\n",
       "      <td>29.670</td>\n",
       "      <td>0.719</td>\n",
       "      <td>0.947</td>\n",
       "      <td>16.463</td>\n",
       "      <td>535.809</td>\n",
       "      <td>771.601</td>\n",
       "      <td>141.944</td>\n",
       "      <td>7.948</td>\n",
       "      <td>145241.769</td>\n",
       "      <td>28.890</td>\n",
       "    </tr>\n",
       "    <tr>\n",
       "      <th>1</th>\n",
       "      <td>52</td>\n",
       "      <td>143</td>\n",
       "      <td>1153495</td>\n",
       "      <td>8066.399</td>\n",
       "      <td>88.005</td>\n",
       "      <td>28.844</td>\n",
       "      <td>28.860</td>\n",
       "      <td>71.560</td>\n",
       "      <td>15.910</td>\n",
       "      <td>9.120</td>\n",
       "      <td>36.614</td>\n",
       "      <td>0.725</td>\n",
       "      <td>0.936</td>\n",
       "      <td>17.656</td>\n",
       "      <td>559.091</td>\n",
       "      <td>778.161</td>\n",
       "      <td>140.699</td>\n",
       "      <td>8.999</td>\n",
       "      <td>175227.664</td>\n",
       "      <td>28.916</td>\n",
       "    </tr>\n",
       "    <tr>\n",
       "      <th>2</th>\n",
       "      <td>53</td>\n",
       "      <td>145</td>\n",
       "      <td>1182339</td>\n",
       "      <td>8154.062</td>\n",
       "      <td>90.205</td>\n",
       "      <td>28.857</td>\n",
       "      <td>28.897</td>\n",
       "      <td>66.548</td>\n",
       "      <td>16.303</td>\n",
       "      <td>9.376</td>\n",
       "      <td>31.688</td>\n",
       "      <td>0.739</td>\n",
       "      <td>0.940</td>\n",
       "      <td>17.940</td>\n",
       "      <td>552.986</td>\n",
       "      <td>780.862</td>\n",
       "      <td>135.282</td>\n",
       "      <td>9.087</td>\n",
       "      <td>174020.138</td>\n",
       "      <td>28.917</td>\n",
       "    </tr>\n",
       "    <tr>\n",
       "      <th>3</th>\n",
       "      <td>54</td>\n",
       "      <td>169</td>\n",
       "      <td>1128390</td>\n",
       "      <td>6676.864</td>\n",
       "      <td>86.089</td>\n",
       "      <td>28.757</td>\n",
       "      <td>28.787</td>\n",
       "      <td>80.932</td>\n",
       "      <td>17.920</td>\n",
       "      <td>8.185</td>\n",
       "      <td>34.768</td>\n",
       "      <td>0.570</td>\n",
       "      <td>0.913</td>\n",
       "      <td>19.344</td>\n",
       "      <td>512.864</td>\n",
       "      <td>719.793</td>\n",
       "      <td>143.712</td>\n",
       "      <td>8.254</td>\n",
       "      <td>145982.556</td>\n",
       "      <td>28.840</td>\n",
       "    </tr>\n",
       "    <tr>\n",
       "      <th>4</th>\n",
       "      <td>55</td>\n",
       "      <td>232</td>\n",
       "      <td>1118548</td>\n",
       "      <td>4821.328</td>\n",
       "      <td>85.338</td>\n",
       "      <td>28.840</td>\n",
       "      <td>28.897</td>\n",
       "      <td>60.429</td>\n",
       "      <td>14.197</td>\n",
       "      <td>6.254</td>\n",
       "      <td>31.048</td>\n",
       "      <td>0.663</td>\n",
       "      <td>0.938</td>\n",
       "      <td>15.169</td>\n",
       "      <td>556.853</td>\n",
       "      <td>737.845</td>\n",
       "      <td>142.103</td>\n",
       "      <td>6.295</td>\n",
       "      <td>106055.948</td>\n",
       "      <td>28.918</td>\n",
       "    </tr>\n",
       "  </tbody>\n",
       "</table>\n",
       "</div>"
      ],
      "text/plain": [
       "   Slice  Count  Total Area  Average Size   %Area    Mean    Mode  Perim.  \\\n",
       "0     51    173     1165565      6737.370  88.926  28.816  28.844  59.095   \n",
       "1     52    143     1153495      8066.399  88.005  28.844  28.860  71.560   \n",
       "2     53    145     1182339      8154.062  90.205  28.857  28.897  66.548   \n",
       "3     54    169     1128390      6676.864  86.089  28.757  28.787  80.932   \n",
       "4     55    232     1118548      4821.328  85.338  28.840  28.897  60.429   \n",
       "\n",
       "    Major  Minor   Angle  Circ.  Solidity   Feret   FeretX   FeretY  \\\n",
       "0  15.273  8.115  29.670  0.719     0.947  16.463  535.809  771.601   \n",
       "1  15.910  9.120  36.614  0.725     0.936  17.656  559.091  778.161   \n",
       "2  16.303  9.376  31.688  0.739     0.940  17.940  552.986  780.862   \n",
       "3  17.920  8.185  34.768  0.570     0.913  19.344  512.864  719.793   \n",
       "4  14.197  6.254  31.048  0.663     0.938  15.169  556.853  737.845   \n",
       "\n",
       "   FeretAngle  MinFeret      IntDen  Median  \n",
       "0     141.944     7.948  145241.769  28.890  \n",
       "1     140.699     8.999  175227.664  28.916  \n",
       "2     135.282     9.087  174020.138  28.917  \n",
       "3     143.712     8.254  145982.556  28.840  \n",
       "4     142.103     6.295  106055.948  28.918  "
      ]
     },
     "execution_count": 74,
     "metadata": {},
     "output_type": "execute_result"
    }
   ],
   "source": [
    "Xf=X.drop(columns=[\"Skew\",\"Kurt\"])\n",
    "Xftrain,Xftest=train_test_split(Xt1)\n",
    "Ytrain,Ytest=train_test_split(Y)\n",
    "Xf.head()"
   ]
  },
  {
   "cell_type": "code",
   "execution_count": 66,
   "id": "511c8e3c",
   "metadata": {},
   "outputs": [
    {
     "data": {
      "text/plain": [
       "0.5"
      ]
     },
     "execution_count": 66,
     "metadata": {},
     "output_type": "execute_result"
    }
   ],
   "source": [
    "#SVM:\n",
    "svmf = make_pipeline(StandardScaler(), SVC(gamma='auto'))\n",
    "svmf.fit(Xftrain, Ytrain)\n",
    "svmf.score(Xftest,Ytest)"
   ]
  },
  {
   "cell_type": "code",
   "execution_count": 72,
   "id": "af46a5bb",
   "metadata": {},
   "outputs": [
    {
     "name": "stdout",
     "output_type": "stream",
     "text": [
      "3\n",
      "['Mean' 'Feret' 'Perim.']\n"
     ]
    }
   ],
   "source": [
    "print(svmf.n_features_in_)\n",
    "print(svmf.feature_names_in_)"
   ]
  },
  {
   "cell_type": "code",
   "execution_count": 67,
   "id": "a993924c",
   "metadata": {},
   "outputs": [
    {
     "data": {
      "text/plain": [
       "0.5"
      ]
     },
     "execution_count": 67,
     "metadata": {},
     "output_type": "execute_result"
    }
   ],
   "source": [
    "#Random Forest:\n",
    "rff = RandomForestClassifier(n_estimators=20,max_depth=2, random_state=0)\n",
    "rff.fit(Xftrain, Ytrain)\n",
    "rff.score(Xftest,Ytest)"
   ]
  },
  {
   "cell_type": "code",
   "execution_count": 73,
   "id": "f2ddc3d3",
   "metadata": {},
   "outputs": [
    {
     "name": "stdout",
     "output_type": "stream",
     "text": [
      "3\n",
      "['Mean' 'Feret' 'Perim.']\n"
     ]
    }
   ],
   "source": [
    "print(rff.n_features_in_)\n",
    "print(rff.feature_names_in_)"
   ]
  },
  {
   "cell_type": "code",
   "execution_count": null,
   "id": "95cc1973",
   "metadata": {},
   "outputs": [],
   "source": []
  }
 ],
 "metadata": {
  "kernelspec": {
   "display_name": "Python 3 (ipykernel)",
   "language": "python",
   "name": "python3"
  },
  "language_info": {
   "codemirror_mode": {
    "name": "ipython",
    "version": 3
   },
   "file_extension": ".py",
   "mimetype": "text/x-python",
   "name": "python",
   "nbconvert_exporter": "python",
   "pygments_lexer": "ipython3",
   "version": "3.11.4"
  }
 },
 "nbformat": 4,
 "nbformat_minor": 5
}
